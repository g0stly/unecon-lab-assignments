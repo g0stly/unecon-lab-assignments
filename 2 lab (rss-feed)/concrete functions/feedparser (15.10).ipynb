{
 "cells": [
  {
   "cell_type": "code",
   "execution_count": 2,
   "metadata": {},
   "outputs": [],
   "source": [
    "import feedparser\n",
    "import re\n",
    "from bs4 import BeautifulSoup"
   ]
  },
  {
   "cell_type": "code",
   "execution_count": 1,
   "metadata": {},
   "outputs": [],
   "source": [
    "sources = {\n",
    "    'main':[\n",
    "        'https://www.vedomosti.ru/rss/rubric/politics',\n",
    "        'https://lenta.ru/rss/news'\n",
    "    ],\n",
    "    'sports':[\n",
    "        'http://www.sports.ru/rss/all_news.xml'\n",
    "    ],\n",
    "    'technologies':[\n",
    "        'https://habr.com/ru/rss/news/'\n",
    "    ],\n",
    "    'joke':[\n",
    "        'https://www.anekdot.ru/rss/export_j.xml'\n",
    "    ]\n",
    "}"
   ]
  },
  {
   "cell_type": "code",
   "execution_count": 8,
   "metadata": {},
   "outputs": [],
   "source": [
    "news_storage = {\n",
    "    'main':[],\n",
    "    'sports':[],\n",
    "    'technologies':[],\n",
    "    'joke':[]\n",
    "}"
   ]
  },
  {
   "cell_type": "code",
   "execution_count": 4,
   "metadata": {},
   "outputs": [],
   "source": [
    "def get_info(link, category):\n",
    "    '''\n",
    "    \n",
    "    парс новостной ленты, при котором для каждой новости сохраняется ссылка на сайт, название и содержание.\n",
    "    '''\n",
    "    global news_storage\n",
    "    news_line = feedparser.parse(link)\n",
    "    for news in news_line.entries:\n",
    "        content = cleanhtml(news.summary)\n",
    "        if 'document.write' in content:\n",
    "            content = content[: content.index('document.write') - 1]\n",
    "        clean_ver = {'title': news.title, 'link': news.links[0]['href'], 'content': content}\n",
    "        \n",
    "        news_storage[category].append(clean_ver)"
   ]
  },
  {
   "cell_type": "code",
   "execution_count": 5,
   "metadata": {},
   "outputs": [],
   "source": [
    "def cleanhtml(raw_html):\n",
    "    '''\n",
    "    \n",
    "    функция, которая убирает из текста тэги/литералы, очищает его\n",
    "    '''\n",
    "    cleanr = re.compile('<.*?>|&([a-z0-9]+|#[0-9]{1,6}|#x[0-9a-f]{1,6});')\n",
    "    cleantext = re.sub(cleanr, '', raw_html)\n",
    "    return ' '.join(cleantext.split())"
   ]
  },
  {
   "cell_type": "code",
   "execution_count": 6,
   "metadata": {},
   "outputs": [],
   "source": [
    "def update_news(src_list):\n",
    "    '''\n",
    "    \n",
    "    апдейт хранилища новостей, нужно придумать, как не сохранять одно и то же несколько раз\n",
    "    '''\n",
    "    for category in src_list:\n",
    "        for link in sources[category]:\n",
    "            get_info(link, category)"
   ]
  },
  {
   "cell_type": "code",
   "execution_count": 9,
   "metadata": {},
   "outputs": [],
   "source": [
    "update_news(sources)"
   ]
  },
  {
   "cell_type": "code",
   "execution_count": 11,
   "metadata": {},
   "outputs": [
    {
     "data": {
      "text/plain": [
       "[{'title': 'Анекдот №1 за 27 октября 2019',\n",
       "  'link': 'https://www.anekdot.ru/release/anekdot/day/2019-10-27/#1053807',\n",
       "  'content': '- Тревога!- Что случилось?- Пробоина ниже ватерлинии!- Чего?!- Колготки на бедре ниже юбки порвались.'},\n",
       " {'title': 'Анекдот №2 за 27 октября 2019',\n",
       "  'link': 'https://www.anekdot.ru/release/anekdot/day/2019-10-27/#1053808',\n",
       "  'content': 'Увести чужого мужа не сложно! Ты попробуй его назад жене вернуть...'},\n",
       " {'title': 'Анекдот №3 за 27 октября 2019',\n",
       "  'link': 'https://www.anekdot.ru/release/anekdot/day/2019-10-27/#1053809',\n",
       "  'content': 'Сонники говорят, что дерьмо снится к деньгам. Представьте себе сны Билла Гейтса!!!'},\n",
       " {'title': 'Анекдот №4 за 27 октября 2019',\n",
       "  'link': 'https://www.anekdot.ru/release/anekdot/day/2019-10-27/#1053810',\n",
       "  'content': 'Счастье любит тишину, прерываемую тихими уведомлениями о зачислении денег.'},\n",
       " {'title': 'Анекдот №5 за 27 октября 2019',\n",
       "  'link': 'https://www.anekdot.ru/release/anekdot/day/2019-10-27/#1053811',\n",
       "  'content': 'Толстая девочка не мыла руки после еды.Потому что они все равно оставались жирными.'},\n",
       " {'title': 'Анекдот №6 за 27 октября 2019',\n",
       "  'link': 'https://www.anekdot.ru/release/anekdot/day/2019-10-27/#1053812',\n",
       "  'content': 'Чиновники решили вывезти радиоактивные отходы из Европы, где проживают их семьи, и ввезти в Россию, где проживаете вы.'},\n",
       " {'title': 'Анекдот №7 за 27 октября 2019',\n",
       "  'link': 'https://www.anekdot.ru/release/anekdot/day/2019-10-27/#1053813',\n",
       "  'content': '- Негры, работайте, солнце ещё высоко!- А смысл? Русские за нас уже всё отработали.'},\n",
       " {'title': 'Анекдот №8 за 27 октября 2019',\n",
       "  'link': 'https://www.anekdot.ru/release/anekdot/day/2019-10-27/#1053814',\n",
       "  'content': 'До Нового года 68 дней, но Дедушка Мороз уже раздал подарки счастливым африканцам.'},\n",
       " {'title': 'Анекдот №9 за 27 октября 2019',\n",
       "  'link': 'https://www.anekdot.ru/release/anekdot/day/2019-10-27/#1053815',\n",
       "  'content': 'Если секс не удался, значит это была йога.Если секс удался, значит это это была камасутра...'},\n",
       " {'title': 'Анекдот №10 за 27 октября 2019',\n",
       "  'link': 'https://www.anekdot.ru/release/anekdot/day/2019-10-27/#1053816',\n",
       "  'content': '- Мама, мне страшно...- Тебе 39 лет, а ведешь себя как ребенок!- Там жирная баба в лосинах.- Иди ко мне, не плачь. Не смотри на нее.'}]"
      ]
     },
     "execution_count": 11,
     "metadata": {},
     "output_type": "execute_result"
    }
   ],
   "source": [
    "news_storage['joke']"
   ]
  },
  {
   "cell_type": "code",
   "execution_count": null,
   "metadata": {},
   "outputs": [],
   "source": []
  }
 ],
 "metadata": {
  "kernelspec": {
   "display_name": "Python 3",
   "language": "python",
   "name": "python3"
  },
  "language_info": {
   "codemirror_mode": {
    "name": "ipython",
    "version": 3
   },
   "file_extension": ".py",
   "mimetype": "text/x-python",
   "name": "python",
   "nbconvert_exporter": "python",
   "pygments_lexer": "ipython3",
   "version": "3.7.0"
  }
 },
 "nbformat": 4,
 "nbformat_minor": 2
}
