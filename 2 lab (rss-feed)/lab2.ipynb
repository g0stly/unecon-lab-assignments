{
 "cells": [
  {
   "cell_type": "code",
   "execution_count": 105,
   "metadata": {},
   "outputs": [],
   "source": [
    "import requests\n",
    "from bs4 import BeautifulSoup\n",
    "import re"
   ]
  },
  {
   "cell_type": "code",
   "execution_count": 3,
   "metadata": {},
   "outputs": [],
   "source": [
    "import feedparser"
   ]
  },
  {
   "cell_type": "code",
   "execution_count": 72,
   "metadata": {},
   "outputs": [],
   "source": [
    "url1 = 'http://www.sports.ru/rss/rubric.xml?s=208'\n",
    "url2 = 'https://www.vedomosti.ru/rss/news'\n",
    "url3 = 'https://www.anekdot.ru/rss/export_j.xml'\n",
    "url4 = 'https://news.rambler.ru/rss/world/'"
   ]
  },
  {
   "cell_type": "code",
   "execution_count": 104,
   "metadata": {},
   "outputs": [],
   "source": [
    "def cleanhtml(raw_html):\n",
    "    cleanr = re.compile('<.*?>|&([a-z0-9]+|#[0-9]{1,6}|#x[0-9a-f]{1,6});')\n",
    "    cleantext = re.sub(cleanr, '', raw_html)\n",
    "    return cleantext"
   ]
  },
  {
   "cell_type": "code",
   "execution_count": 73,
   "metadata": {},
   "outputs": [],
   "source": [
    "test1 = feedparser.parse(url1) # спорт сру\n",
    "test2 = feedparser.parse(url2) # ведомости\n",
    "test3 = feedparser.parse(url3) # анеки\n",
    "test4 = feedparser.parse(url4) # рамблер"
   ]
  },
  {
   "cell_type": "code",
   "execution_count": 74,
   "metadata": {},
   "outputs": [
    {
     "name": "stdout",
     "output_type": "stream",
     "text": [
      "dict_keys(['feed', 'entries', 'bozo', 'headers', 'href', 'status', 'encoding', 'version', 'namespaces'])\n",
      "dict_keys(['feed', 'entries', 'bozo', 'headers', 'etag', 'updated', 'updated_parsed', 'href', 'status', 'encoding', 'bozo_exception', 'version', 'namespaces'])\n",
      "dict_keys(['feed', 'entries', 'bozo', 'headers', 'href', 'status', 'encoding', 'version', 'namespaces'])\n",
      "dict_keys(['feed', 'entries', 'bozo', 'headers', 'updated', 'updated_parsed', 'href', 'status', 'encoding', 'version', 'namespaces'])\n"
     ]
    }
   ],
   "source": [
    "print(test1.keys())\n",
    "print(test2.keys())\n",
    "print(test3.keys())\n",
    "print(test4.keys())"
   ]
  },
  {
   "cell_type": "code",
   "execution_count": 78,
   "metadata": {
    "scrolled": true
   },
   "outputs": [
    {
     "name": "stdout",
     "output_type": "stream",
     "text": [
      "0. Назначен новый премьер-министр Азербайджана\n",
      "1. Лукашенко выступил за более тесные переговоры между Украиной и РФ по Донбассу\n",
      "2. Три сценария: в МИД Украины рассказали о судьбе Донбасса\n",
      "3. ФБР выбрало «самого продуктивного» убийцу\n",
      "4. Белоруссия готова взять на себя разработку декларации о неразмещении РСМД в Европе\n",
      "5. «Консенсуса нет»: визовый скандал парализовал комитеты ООН\n",
      "6. Последний шанс для Британии: как остановить жесткий Brexit\n",
      "7. На Украине предложили запретить сериал «Сваты»\n",
      "8. В США неизвестный начертил в небе поздравление Путину\n",
      "9. Письмо советских моряков обнаружили в Бразилии\n"
     ]
    }
   ],
   "source": [
    "for i in range(len(test4['entries'])):\n",
    "    print(str(i) + '. ' + test4['entries'][i]['title'])"
   ]
  },
  {
   "cell_type": "code",
   "execution_count": 115,
   "metadata": {},
   "outputs": [
    {
     "data": {
      "text/plain": [
       "[{'id': '42956828',\n",
       "  'guidislink': False,\n",
       "  'title': 'Назначен новый премьер-министр Азербайджана',\n",
       "  'title_detail': {'type': 'text/plain',\n",
       "   'language': None,\n",
       "   'base': 'https://news.rambler.ru/rss/world/',\n",
       "   'value': 'Назначен новый премьер-министр Азербайджана'},\n",
       "  'links': [{'rel': 'alternate',\n",
       "    'type': 'text/html',\n",
       "    'href': 'https://news.rambler.ru/world/42956828-naznachen-novyy-premer-ministr-azerbaydzhana/'}],\n",
       "  'link': 'https://news.rambler.ru/world/42956828-naznachen-novyy-premer-ministr-azerbaydzhana/',\n",
       "  'pdalink': 'https://news.rambler.ru/world/42956828-naznachen-novyy-premer-ministr-azerbaydzhana/',\n",
       "  'published': 'Tue, 08 Oct 2019 12:41:43 +0300',\n",
       "  'published_parsed': time.struct_time(tm_year=2019, tm_mon=10, tm_mday=8, tm_hour=9, tm_min=41, tm_sec=43, tm_wday=1, tm_yday=281, tm_isdst=0),\n",
       "  'summary': 'Парламент Азербайджана утвердил кандидатуру нового премьер-министра, им\\xa0стал помощник президента страны по\\xa0экономическим вопросам Али\\xa0Асадов. Об\\xa0этом сообщает местное новостное агенство The\\xa0First News.',\n",
       "  'summary_detail': {'type': 'text/html',\n",
       "   'language': None,\n",
       "   'base': 'https://news.rambler.ru/rss/world/',\n",
       "   'value': 'Парламент Азербайджана утвердил кандидатуру нового премьер-министра, им\\xa0стал помощник президента страны по\\xa0экономическим вопросам Али\\xa0Асадов. Об\\xa0этом сообщает местное новостное агенство The\\xa0First News.'},\n",
       "  'tags': [{'term': 'В мире', 'scheme': None, 'label': None}],\n",
       "  'authors': [{'name': 'Lenta.ru'}],\n",
       "  'author': 'Lenta.ru',\n",
       "  'author_detail': {'name': 'Lenta.ru'}},\n",
       " {'id': '42957508',\n",
       "  'guidislink': False,\n",
       "  'title': 'Лукашенко выступил за\\xa0более тесные переговоры между Украиной и\\xa0РФ\\xa0по\\xa0Донбассу',\n",
       "  'title_detail': {'type': 'text/plain',\n",
       "   'language': None,\n",
       "   'base': 'https://news.rambler.ru/rss/world/',\n",
       "   'value': 'Лукашенко выступил за\\xa0более тесные переговоры между Украиной и\\xa0РФ\\xa0по\\xa0Донбассу'},\n",
       "  'links': [{'rel': 'alternate',\n",
       "    'type': 'text/html',\n",
       "    'href': 'https://news.rambler.ru/world/42957508-lukashenko-vystupil-za-bolee-tesnye-peregovory-mezhdu-ukrainoy-i-rf-po-donbassu/'}],\n",
       "  'link': 'https://news.rambler.ru/world/42957508-lukashenko-vystupil-za-bolee-tesnye-peregovory-mezhdu-ukrainoy-i-rf-po-donbassu/',\n",
       "  'pdalink': 'https://news.rambler.ru/world/42957508-lukashenko-vystupil-za-bolee-tesnye-peregovory-mezhdu-ukrainoy-i-rf-po-donbassu/',\n",
       "  'published': 'Tue, 08 Oct 2019 10:58:00 +0300',\n",
       "  'published_parsed': time.struct_time(tm_year=2019, tm_mon=10, tm_mday=8, tm_hour=7, tm_min=58, tm_sec=0, tm_wday=1, tm_yday=281, tm_isdst=0),\n",
       "  'summary': 'МИНСК, 8\\xa0октября. /ТАСС/. Урегулирование украинского конфликта возможно путем более тесных переговоров Украины и\\xa0России по\\xa0этой проблеме.',\n",
       "  'summary_detail': {'type': 'text/html',\n",
       "   'language': None,\n",
       "   'base': 'https://news.rambler.ru/rss/world/',\n",
       "   'value': 'МИНСК, 8\\xa0октября. /ТАСС/. Урегулирование украинского конфликта возможно путем более тесных переговоров Украины и\\xa0России по\\xa0этой проблеме.'},\n",
       "  'tags': [{'term': 'В мире', 'scheme': None, 'label': None}],\n",
       "  'authors': [{'name': 'ТАСС'}],\n",
       "  'author': 'ТАСС',\n",
       "  'author_detail': {'name': 'ТАСС'}},\n",
       " {'id': '42957651',\n",
       "  'guidislink': False,\n",
       "  'title': 'Три\\xa0сценария: в\\xa0МИД\\xa0Украины рассказали о\\xa0судьбе Донбасса',\n",
       "  'title_detail': {'type': 'text/plain',\n",
       "   'language': None,\n",
       "   'base': 'https://news.rambler.ru/rss/world/',\n",
       "   'value': 'Три\\xa0сценария: в\\xa0МИД\\xa0Украины рассказали о\\xa0судьбе Донбасса'},\n",
       "  'links': [{'rel': 'alternate',\n",
       "    'type': 'text/html',\n",
       "    'href': 'https://news.rambler.ru/world/42957651-tri-stsenariya-v-mid-ukrainy-rasskazali-o-sudbe-donbassa/'}],\n",
       "  'link': 'https://news.rambler.ru/world/42957651-tri-stsenariya-v-mid-ukrainy-rasskazali-o-sudbe-donbassa/',\n",
       "  'pdalink': 'https://news.rambler.ru/world/42957651-tri-stsenariya-v-mid-ukrainy-rasskazali-o-sudbe-donbassa/',\n",
       "  'published': 'Tue, 08 Oct 2019 11:24:33 +0300',\n",
       "  'published_parsed': time.struct_time(tm_year=2019, tm_mon=10, tm_mday=8, tm_hour=8, tm_min=24, tm_sec=33, tm_wday=1, tm_yday=281, tm_isdst=0),\n",
       "  'summary': 'Министр иностранных дел\\xa0Украины Вадим Пристайко озвучил три\\xa0возможных сценария развития ситуации в\\xa0Донбассе. Об\\xa0этом сообщает телеканал ICTV.',\n",
       "  'summary_detail': {'type': 'text/html',\n",
       "   'language': None,\n",
       "   'base': 'https://news.rambler.ru/rss/world/',\n",
       "   'value': 'Министр иностранных дел\\xa0Украины Вадим Пристайко озвучил три\\xa0возможных сценария развития ситуации в\\xa0Донбассе. Об\\xa0этом сообщает телеканал ICTV.'},\n",
       "  'tags': [{'term': 'В мире', 'scheme': None, 'label': None}],\n",
       "  'authors': [{'name': 'Газета.Ru'}],\n",
       "  'author': 'Газета.Ru',\n",
       "  'author_detail': {'name': 'Газета.Ru'}},\n",
       " {'id': '42956178',\n",
       "  'guidislink': False,\n",
       "  'title': 'ФБР\\xa0выбрало «самого продуктивного» убийцу',\n",
       "  'title_detail': {'type': 'text/plain',\n",
       "   'language': None,\n",
       "   'base': 'https://news.rambler.ru/rss/world/',\n",
       "   'value': 'ФБР\\xa0выбрало «самого продуктивного» убийцу'},\n",
       "  'links': [{'rel': 'alternate',\n",
       "    'type': 'text/html',\n",
       "    'href': 'https://news.rambler.ru/world/42956178-fbr-vybralo-samogo-produktivnogo-ubiytsu/'}],\n",
       "  'link': 'https://news.rambler.ru/world/42956178-fbr-vybralo-samogo-produktivnogo-ubiytsu/',\n",
       "  'pdalink': 'https://news.rambler.ru/world/42956178-fbr-vybralo-samogo-produktivnogo-ubiytsu/',\n",
       "  'published': 'Tue, 08 Oct 2019 10:45:00 +0300',\n",
       "  'published_parsed': time.struct_time(tm_year=2019, tm_mon=10, tm_mday=8, tm_hour=7, tm_min=45, tm_sec=0, tm_wday=1, tm_yday=281, tm_isdst=0),\n",
       "  'summary': 'ФБР\\xa0назвало маньяка Сэмюэля Литтла, признавшегося в\\xa093\\xa0преступлениях, «самым продуктивным» убийцей в\\xa0истории США.',\n",
       "  'summary_detail': {'type': 'text/html',\n",
       "   'language': None,\n",
       "   'base': 'https://news.rambler.ru/rss/world/',\n",
       "   'value': 'ФБР\\xa0назвало маньяка Сэмюэля Литтла, признавшегося в\\xa093\\xa0преступлениях, «самым продуктивным» убийцей в\\xa0истории США.'},\n",
       "  'tags': [{'term': 'В мире', 'scheme': None, 'label': None}],\n",
       "  'authors': [{'name': 'Lenta.ru'}],\n",
       "  'author': 'Lenta.ru',\n",
       "  'author_detail': {'name': 'Lenta.ru'}},\n",
       " {'id': '42957167',\n",
       "  'guidislink': False,\n",
       "  'title': 'Белоруссия готова взять на\\xa0себя разработку декларации о\\xa0неразмещении РСМД в\\xa0Европе',\n",
       "  'title_detail': {'type': 'text/plain',\n",
       "   'language': None,\n",
       "   'base': 'https://news.rambler.ru/rss/world/',\n",
       "   'value': 'Белоруссия готова взять на\\xa0себя разработку декларации о\\xa0неразмещении РСМД в\\xa0Европе'},\n",
       "  'links': [{'rel': 'alternate',\n",
       "    'type': 'text/html',\n",
       "    'href': 'https://news.rambler.ru/army/42957167-belorussiya-gotova-vzyat-na-sebya-razrabotku-deklaratsii-o-nerazmeschenii-rsmd-v-evrope/'}],\n",
       "  'link': 'https://news.rambler.ru/army/42957167-belorussiya-gotova-vzyat-na-sebya-razrabotku-deklaratsii-o-nerazmeschenii-rsmd-v-evrope/',\n",
       "  'pdalink': 'https://news.rambler.ru/army/42957167-belorussiya-gotova-vzyat-na-sebya-razrabotku-deklaratsii-o-nerazmeschenii-rsmd-v-evrope/',\n",
       "  'published': 'Tue, 08 Oct 2019 10:09:46 +0300',\n",
       "  'published_parsed': time.struct_time(tm_year=2019, tm_mon=10, tm_mday=8, tm_hour=7, tm_min=9, tm_sec=46, tm_wday=1, tm_yday=281, tm_isdst=0),\n",
       "  'summary': 'Лукашенко заявил, что\\xa0градус недоверия и\\xa0конфронтации между Россией и\\xa0Западом достиг предела.\\nНовость дополняется',\n",
       "  'summary_detail': {'type': 'text/html',\n",
       "   'language': None,\n",
       "   'base': 'https://news.rambler.ru/rss/world/',\n",
       "   'value': 'Лукашенко заявил, что\\xa0градус недоверия и\\xa0конфронтации между Россией и\\xa0Западом достиг предела.\\nНовость дополняется'},\n",
       "  'tags': [{'term': 'Армия', 'scheme': None, 'label': None}],\n",
       "  'authors': [{'name': 'ТАСС'}],\n",
       "  'author': 'ТАСС',\n",
       "  'author_detail': {'name': 'ТАСС'}},\n",
       " {'id': '42957701',\n",
       "  'guidislink': False,\n",
       "  'title': '«Консенсуса нет»: визовый скандал парализовал комитеты ООН',\n",
       "  'title_detail': {'type': 'text/plain',\n",
       "   'language': None,\n",
       "   'base': 'https://news.rambler.ru/rss/world/',\n",
       "   'value': '«Консенсуса нет»: визовый скандал парализовал комитеты ООН'},\n",
       "  'links': [{'rel': 'alternate',\n",
       "    'type': 'text/html',\n",
       "    'href': 'https://news.rambler.ru/world/42957701-konsensusa-net-vizovyy-skandal-paralizoval-komitety-oon/'}],\n",
       "  'link': 'https://news.rambler.ru/world/42957701-konsensusa-net-vizovyy-skandal-paralizoval-komitety-oon/',\n",
       "  'pdalink': 'https://news.rambler.ru/world/42957701-konsensusa-net-vizovyy-skandal-paralizoval-komitety-oon/',\n",
       "  'published': 'Tue, 08 Oct 2019 09:52:51 +0300',\n",
       "  'published_parsed': time.struct_time(tm_year=2019, tm_mon=10, tm_mday=8, tm_hour=6, tm_min=52, tm_sec=51, tm_wday=1, tm_yday=281, tm_isdst=0),\n",
       "  'summary': 'Первый и\\xa0Шестой комитеты Генеральной ассамблеи ООН\\xa0были вынуждены перенести заседания на\\xa0несколько часов в\\xa0связи с\\xa0невыдачей виз\\xa0США\\xa0дипломатам из\\xa0России и\\xa0прочих стран.',\n",
       "  'summary_detail': {'type': 'text/html',\n",
       "   'language': None,\n",
       "   'base': 'https://news.rambler.ru/rss/world/',\n",
       "   'value': 'Первый и\\xa0Шестой комитеты Генеральной ассамблеи ООН\\xa0были вынуждены перенести заседания на\\xa0несколько часов в\\xa0связи с\\xa0невыдачей виз\\xa0США\\xa0дипломатам из\\xa0России и\\xa0прочих стран.'},\n",
       "  'tags': [{'term': 'В мире', 'scheme': None, 'label': None}],\n",
       "  'authors': [{'name': 'Газета.Ru'}],\n",
       "  'author': 'Газета.Ru',\n",
       "  'author_detail': {'name': 'Газета.Ru'}},\n",
       " {'id': '42953776',\n",
       "  'guidislink': False,\n",
       "  'title': 'Последний шанс для\\xa0Британии: как\\xa0остановить жесткий Brexit',\n",
       "  'title_detail': {'type': 'text/plain',\n",
       "   'language': None,\n",
       "   'base': 'https://news.rambler.ru/rss/world/',\n",
       "   'value': 'Последний шанс для\\xa0Британии: как\\xa0остановить жесткий Brexit'},\n",
       "  'links': [{'rel': 'alternate',\n",
       "    'type': 'text/html',\n",
       "    'href': 'https://news.rambler.ru/europe/42953776-posledniy-shans-dlya-britanii-kak-ostanovit-zhestkiy-brexit/'}],\n",
       "  'link': 'https://news.rambler.ru/europe/42953776-posledniy-shans-dlya-britanii-kak-ostanovit-zhestkiy-brexit/',\n",
       "  'pdalink': 'https://news.rambler.ru/europe/42953776-posledniy-shans-dlya-britanii-kak-ostanovit-zhestkiy-brexit/',\n",
       "  'published': 'Tue, 08 Oct 2019 08:38:11 +0300',\n",
       "  'published_parsed': time.struct_time(tm_year=2019, tm_mon=10, tm_mday=8, tm_hour=5, tm_min=38, tm_sec=11, tm_wday=1, tm_yday=281, tm_isdst=0),\n",
       "  'summary': 'Премьер-министр Великобритании Борис Джонсон попросил Евросоюз представить детальный ответ на\\xa0его\\xa0новейший план по\\xa0Brexit. По\\xa0его\\xa0словам, Лондон сделал щедрые, справедливые и\\xa0разумные предложения Брюсселю.',\n",
       "  'summary_detail': {'type': 'text/html',\n",
       "   'language': None,\n",
       "   'base': 'https://news.rambler.ru/rss/world/',\n",
       "   'value': 'Премьер-министр Великобритании Борис Джонсон попросил Евросоюз представить детальный ответ на\\xa0его\\xa0новейший план по\\xa0Brexit. По\\xa0его\\xa0словам, Лондон сделал щедрые, справедливые и\\xa0разумные предложения Брюсселю.'},\n",
       "  'tags': [{'term': 'Европа', 'scheme': None, 'label': None}],\n",
       "  'authors': [{'name': 'Газета.Ru'}],\n",
       "  'author': 'Газета.Ru',\n",
       "  'author_detail': {'name': 'Газета.Ru'}},\n",
       " {'id': '42956541',\n",
       "  'guidislink': False,\n",
       "  'title': 'На\\xa0Украине предложили запретить сериал «Сваты»',\n",
       "  'title_detail': {'type': 'text/plain',\n",
       "   'language': None,\n",
       "   'base': 'https://news.rambler.ru/rss/world/',\n",
       "   'value': 'На\\xa0Украине предложили запретить сериал «Сваты»'},\n",
       "  'links': [{'rel': 'alternate',\n",
       "    'type': 'text/html',\n",
       "    'href': 'https://news.rambler.ru/ukraine/42956541-na-ukraine-predlozhili-zapretit-serial-svaty/'}],\n",
       "  'link': 'https://news.rambler.ru/ukraine/42956541-na-ukraine-predlozhili-zapretit-serial-svaty/',\n",
       "  'pdalink': 'https://news.rambler.ru/ukraine/42956541-na-ukraine-predlozhili-zapretit-serial-svaty/',\n",
       "  'published': 'Tue, 08 Oct 2019 08:22:03 +0300',\n",
       "  'published_parsed': time.struct_time(tm_year=2019, tm_mon=10, tm_mday=8, tm_hour=5, tm_min=22, tm_sec=3, tm_wday=1, tm_yday=281, tm_isdst=0),\n",
       "  'summary': 'Украинский режиссер Ахтем Сеитаблаев предложил запретить сериал «Сваты» из-за\\xa0снимающегося в\\xa0нем\\xa0российского актера Федора Добронравова. Он, по\\xa0мнению режиссера, «поддерживает оккупацию Крыма» и\\xa0«убийство украинцев в\\xa0Донбассе».',\n",
       "  'summary_detail': {'type': 'text/html',\n",
       "   'language': None,\n",
       "   'base': 'https://news.rambler.ru/rss/world/',\n",
       "   'value': 'Украинский режиссер Ахтем Сеитаблаев предложил запретить сериал «Сваты» из-за\\xa0снимающегося в\\xa0нем\\xa0российского актера Федора Добронравова. Он, по\\xa0мнению режиссера, «поддерживает оккупацию Крыма» и\\xa0«убийство украинцев в\\xa0Донбассе».'},\n",
       "  'tags': [{'term': 'Украина', 'scheme': None, 'label': None}],\n",
       "  'authors': [{'name': 'Деловая газета «Взгляд»'}],\n",
       "  'author': 'Деловая газета «Взгляд»',\n",
       "  'author_detail': {'name': 'Деловая газета «Взгляд»'}},\n",
       " {'id': '42956870',\n",
       "  'guidislink': False,\n",
       "  'title': 'В\\xa0США\\xa0неизвестный начертил в\\xa0небе поздравление Путину',\n",
       "  'title_detail': {'type': 'text/plain',\n",
       "   'language': None,\n",
       "   'base': 'https://news.rambler.ru/rss/world/',\n",
       "   'value': 'В\\xa0США\\xa0неизвестный начертил в\\xa0небе поздравление Путину'},\n",
       "  'links': [{'rel': 'alternate',\n",
       "    'type': 'text/html',\n",
       "    'href': 'https://news.rambler.ru/world/42956870-v-ssha-neizvestnyy-nachertil-v-nebe-pozdravlenie-putinu/'}],\n",
       "  'link': 'https://news.rambler.ru/world/42956870-v-ssha-neizvestnyy-nachertil-v-nebe-pozdravlenie-putinu/',\n",
       "  'pdalink': 'https://news.rambler.ru/world/42956870-v-ssha-neizvestnyy-nachertil-v-nebe-pozdravlenie-putinu/',\n",
       "  'published': 'Tue, 08 Oct 2019 09:13:13 +0300',\n",
       "  'published_parsed': time.struct_time(tm_year=2019, tm_mon=10, tm_mday=8, tm_hour=6, tm_min=13, tm_sec=13, tm_wday=1, tm_yday=281, tm_isdst=0),\n",
       "  'summary': 'В\\xa0штате Калифорния неустановленный пока пилот при\\xa0помощи инверсионного следа от\\xa0самолета начертил в\\xa0небе надпись VVP67. Как\\xa0отмечает РЕН\\xa0ТВ, полет проходил в\\xa0окрестностях обсерватории Гриффита.',\n",
       "  'summary_detail': {'type': 'text/html',\n",
       "   'language': None,\n",
       "   'base': 'https://news.rambler.ru/rss/world/',\n",
       "   'value': 'В\\xa0штате Калифорния неустановленный пока пилот при\\xa0помощи инверсионного следа от\\xa0самолета начертил в\\xa0небе надпись VVP67. Как\\xa0отмечает РЕН\\xa0ТВ, полет проходил в\\xa0окрестностях обсерватории Гриффита.'},\n",
       "  'tags': [{'term': 'В мире', 'scheme': None, 'label': None}],\n",
       "  'authors': [{'name': 'Национальная Служба Новостей'}],\n",
       "  'author': 'Национальная Служба Новостей',\n",
       "  'author_detail': {'name': 'Национальная Служба Новостей'}},\n",
       " {'id': '42956122',\n",
       "  'guidislink': False,\n",
       "  'title': 'Письмо советских моряков обнаружили в\\xa0Бразилии',\n",
       "  'title_detail': {'type': 'text/plain',\n",
       "   'language': None,\n",
       "   'base': 'https://news.rambler.ru/rss/world/',\n",
       "   'value': 'Письмо советских моряков обнаружили в\\xa0Бразилии'},\n",
       "  'links': [{'rel': 'alternate',\n",
       "    'type': 'text/html',\n",
       "    'href': 'https://news.rambler.ru/world/42956122-pismo-sovetskih-moryakov-obnaruzhili-v-brazilii/'}],\n",
       "  'link': 'https://news.rambler.ru/world/42956122-pismo-sovetskih-moryakov-obnaruzhili-v-brazilii/',\n",
       "  'pdalink': 'https://news.rambler.ru/world/42956122-pismo-sovetskih-moryakov-obnaruzhili-v-brazilii/',\n",
       "  'published': 'Tue, 08 Oct 2019 08:24:25 +0300',\n",
       "  'published_parsed': time.struct_time(tm_year=2019, tm_mon=10, tm_mday=8, tm_hour=5, tm_min=24, tm_sec=25, tm_wday=1, tm_yday=281, tm_isdst=0),\n",
       "  'summary': 'В\\xa0Бразилии местные жители обнаружили на\\xa0пляже письмо в\\xa0бутылке, которое принадлежало советским морякам. Об\\xa0этом сообщает Globo.',\n",
       "  'summary_detail': {'type': 'text/html',\n",
       "   'language': None,\n",
       "   'base': 'https://news.rambler.ru/rss/world/',\n",
       "   'value': 'В\\xa0Бразилии местные жители обнаружили на\\xa0пляже письмо в\\xa0бутылке, которое принадлежало советским морякам. Об\\xa0этом сообщает Globo.'},\n",
       "  'tags': [{'term': 'В мире', 'scheme': None, 'label': None}],\n",
       "  'authors': [{'name': 'Газета.Ru'}],\n",
       "  'author': 'Газета.Ru',\n",
       "  'author_detail': {'name': 'Газета.Ru'}}]"
      ]
     },
     "execution_count": 115,
     "metadata": {},
     "output_type": "execute_result"
    }
   ],
   "source": [
    "test4['entries']"
   ]
  },
  {
   "cell_type": "code",
   "execution_count": 111,
   "metadata": {},
   "outputs": [],
   "source": [
    "x = test4.entries[1].summary"
   ]
  },
  {
   "cell_type": "code",
   "execution_count": 112,
   "metadata": {},
   "outputs": [
    {
     "data": {
      "text/plain": [
       "'МИНСК, 8\\xa0октября. /ТАСС/. Урегулирование украинского конфликта возможно путем более тесных переговоров Украины и\\xa0России по\\xa0этой проблеме.'"
      ]
     },
     "execution_count": 112,
     "metadata": {},
     "output_type": "execute_result"
    }
   ],
   "source": [
    "x"
   ]
  },
  {
   "cell_type": "code",
   "execution_count": 114,
   "metadata": {},
   "outputs": [
    {
     "data": {
      "text/plain": [
       "'МИНСК, 8\\xa0октября. /ТАСС/. Урегулирование украинского конфликта возможно путем более тесных переговоров Украины и\\xa0России по\\xa0этой проблеме.'"
      ]
     },
     "execution_count": 114,
     "metadata": {},
     "output_type": "execute_result"
    }
   ],
   "source": [
    "cleanhtml(x)"
   ]
  },
  {
   "cell_type": "code",
   "execution_count": 120,
   "metadata": {},
   "outputs": [
    {
     "data": {
      "text/plain": [
       "'Арсен Венгер: Пепе нужно время на адаптацию. Он не играет с той свободой, как выступал во Франции'"
      ]
     },
     "execution_count": 120,
     "metadata": {},
     "output_type": "execute_result"
    }
   ],
   "source": [
    "cleanhtml(\"Арсен Венгер: &#171;Пепе нужно время на адаптацию. Он не играет с той свободой, как выступал во Франции&#187;\")"
   ]
  },
  {
   "cell_type": "code",
   "execution_count": null,
   "metadata": {},
   "outputs": [],
   "source": []
  }
 ],
 "metadata": {
  "kernelspec": {
   "display_name": "Python 3",
   "language": "python",
   "name": "python3"
  },
  "language_info": {
   "codemirror_mode": {
    "name": "ipython",
    "version": 3
   },
   "file_extension": ".py",
   "mimetype": "text/x-python",
   "name": "python",
   "nbconvert_exporter": "python",
   "pygments_lexer": "ipython3",
   "version": "3.6.5"
  }
 },
 "nbformat": 4,
 "nbformat_minor": 2
}
