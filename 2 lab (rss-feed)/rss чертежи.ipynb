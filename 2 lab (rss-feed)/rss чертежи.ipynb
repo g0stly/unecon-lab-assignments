{
 "cells": [
  {
   "cell_type": "code",
   "execution_count": 25,
   "metadata": {},
   "outputs": [],
   "source": [
    "import requests\n",
    "from bs4 import BeautifulSoup"
   ]
  },
  {
   "cell_type": "code",
   "execution_count": 2,
   "metadata": {},
   "outputs": [],
   "source": [
    "sources = {\n",
    "    'main':[\n",
    "        'https://www.vedomosti.ru/rss/rubric/politics',\n",
    "        'https://lenta.ru/rss/news'\n",
    "    ],\n",
    "    'sports':[\n",
    "        'http://www.sports.ru/rss/all_news.xml'\n",
    "    ],\n",
    "    'technologies':[\n",
    "        'https://habr.com/ru/rss/news/'\n",
    "    ]\n",
    "}"
   ]
  },
  {
   "cell_type": "code",
   "execution_count": 10,
   "metadata": {},
   "outputs": [],
   "source": [
    "news = {\n",
    "    'main':[],\n",
    "    'sports':[],\n",
    "    'technologies':[]\n",
    "}"
   ]
  },
  {
   "cell_type": "code",
   "execution_count": 4,
   "metadata": {},
   "outputs": [],
   "source": [
    "resp = requests.get(sources['main'][1])\n",
    "soup = BeautifulSoup(resp.content, features = 'xml')\n",
    "data = soup.findAll('item')"
   ]
  },
  {
   "cell_type": "code",
   "execution_count": 29,
   "metadata": {},
   "outputs": [
    {
     "data": {
      "text/plain": [
       "'\\n    Пользователи социальных сетей высмеяли новый бронекатер проекта «Гюрза-М», созданный на деньги США для Военно-морских сил Украины. Комментаторы прозвали корабль «бронешлюпкой» и в штуку провозгласили Украину «великой морской державой». Некоторые усомнились в ходовых качествах катера.\\n  '"
      ]
     },
     "execution_count": 29,
     "metadata": {},
     "output_type": "execute_result"
    }
   ],
   "source": [
    "data[18].description.text"
   ]
  },
  {
   "cell_type": "code",
   "execution_count": 8,
   "metadata": {},
   "outputs": [],
   "source": [
    "def parse_easy(src):\n",
    "    \"\"\"\n",
    "    \n",
    "    Функция, предназначенная для разбора самых \"незагрязненных\" rss-лент (ex: lenta.ru)\n",
    "    Возвращает массив с новостями в формате str\n",
    "    \"\"\"\n",
    "    resp = requests.get(src)\n",
    "    soup = BeautifulSoup(resp.content, features = 'xml')\n",
    "    data = soup.findAll('item')\n",
    "    ans = []\n",
    "    \n",
    "    for news in data:\n",
    "        clean = news.description.text.strip()\n",
    "        if '<' in clean:\n",
    "            clean = clean[:clean.index('<')]\n",
    "        ans.append(clean)\n",
    "    \n",
    "    return ans"
   ]
  },
  {
   "cell_type": "code",
   "execution_count": 19,
   "metadata": {},
   "outputs": [],
   "source": [
    "news['main'].extend(parse_easy(sources['main'][1]))"
   ]
  },
  {
   "cell_type": "code",
   "execution_count": null,
   "metadata": {},
   "outputs": [],
   "source": []
  }
 ],
 "metadata": {
  "kernelspec": {
   "display_name": "Python 3",
   "language": "python",
   "name": "python3"
  },
  "language_info": {
   "codemirror_mode": {
    "name": "ipython",
    "version": 3
   },
   "file_extension": ".py",
   "mimetype": "text/x-python",
   "name": "python",
   "nbconvert_exporter": "python",
   "pygments_lexer": "ipython3",
   "version": "3.7.0"
  }
 },
 "nbformat": 4,
 "nbformat_minor": 2
}
