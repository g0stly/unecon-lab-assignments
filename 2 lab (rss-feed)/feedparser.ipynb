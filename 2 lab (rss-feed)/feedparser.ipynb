{
 "cells": [
  {
   "cell_type": "code",
   "execution_count": 64,
   "metadata": {},
   "outputs": [],
   "source": [
    "import feedparser\n",
    "import re\n",
    "from bs4 import BeautifulSoup"
   ]
  },
  {
   "cell_type": "code",
   "execution_count": 3,
   "metadata": {},
   "outputs": [],
   "source": [
    "sources = {\n",
    "    'main':[\n",
    "        'https://www.vedomosti.ru/rss/rubric/politics',\n",
    "        'https://lenta.ru/rss/news'\n",
    "    ],\n",
    "    'sports':[\n",
    "        'http://www.sports.ru/rss/all_news.xml'\n",
    "    ],\n",
    "    'technologies':[\n",
    "        'https://habr.com/ru/rss/news/'\n",
    "    ]\n",
    "}"
   ]
  },
  {
   "cell_type": "code",
   "execution_count": 148,
   "metadata": {},
   "outputs": [],
   "source": [
    "news_storage = {\n",
    "    'main':[],\n",
    "    'sports':[],\n",
    "    'technologies':[]\n",
    "}"
   ]
  },
  {
   "cell_type": "code",
   "execution_count": 129,
   "metadata": {},
   "outputs": [],
   "source": [
    "def get_info(link, category):\n",
    "    '''\n",
    "    \n",
    "    парс новостной ленты, при котором для каждой новости сохраняется ссылка на сайт, название и содержание.\n",
    "    '''\n",
    "    global news_storage\n",
    "    news_line = feedparser.parse(link)\n",
    "    for news in news_line.entries:\n",
    "        content = cleanhtml(news.summary)\n",
    "        if 'document.write' in content:\n",
    "            content = content[: content.index('document.write') - 1]\n",
    "        clean_ver = {'title': news.title, 'link': news.links[0]['href'], 'content': content}\n",
    "        news_storage[category].append(clean_ver)"
   ]
  },
  {
   "cell_type": "code",
   "execution_count": 108,
   "metadata": {},
   "outputs": [],
   "source": [
    "def cleanhtml(raw_html):\n",
    "    '''\n",
    "    \n",
    "    функция, которая убирает из текста тэги/литералы, очищает его\n",
    "    '''\n",
    "    cleanr = re.compile('<.*?>|&([a-z0-9]+|#[0-9]{1,6}|#x[0-9a-f]{1,6});')\n",
    "    cleantext = re.sub(cleanr, '', raw_html)\n",
    "    return ' '.join(cleantext.split())"
   ]
  },
  {
   "cell_type": "code",
   "execution_count": 158,
   "metadata": {},
   "outputs": [],
   "source": [
    "def update_news(src_list):\n",
    "    '''\n",
    "    \n",
    "    апдейт хранилища новостей, нужно придумать, как не сохранять одно и то же несколько раз\n",
    "    '''\n",
    "    for category in src_list:\n",
    "        for link in sources[category]:\n",
    "            get_info(link, category)"
   ]
  },
  {
   "cell_type": "code",
   "execution_count": 159,
   "metadata": {},
   "outputs": [],
   "source": [
    "update_news(sources)"
   ]
  },
  {
   "cell_type": "code",
   "execution_count": null,
   "metadata": {},
   "outputs": [],
   "source": []
  }
 ],
 "metadata": {
  "kernelspec": {
   "display_name": "Python 3",
   "language": "python",
   "name": "python3"
  },
  "language_info": {
   "codemirror_mode": {
    "name": "ipython",
    "version": 3
   },
   "file_extension": ".py",
   "mimetype": "text/x-python",
   "name": "python",
   "nbconvert_exporter": "python",
   "pygments_lexer": "ipython3",
   "version": "3.7.0"
  }
 },
 "nbformat": 4,
 "nbformat_minor": 2
}
