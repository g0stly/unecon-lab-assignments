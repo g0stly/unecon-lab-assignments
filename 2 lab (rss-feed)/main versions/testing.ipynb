{
 "cells": [
  {
   "cell_type": "code",
   "execution_count": 1,
   "metadata": {},
   "outputs": [],
   "source": [
    "last_joke = ''"
   ]
  },
  {
   "cell_type": "code",
   "execution_count": 11,
   "metadata": {},
   "outputs": [],
   "source": [
    "import feedparser\n",
    "import random\n",
    "import re"
   ]
  },
  {
   "cell_type": "code",
   "execution_count": 22,
   "metadata": {},
   "outputs": [],
   "source": [
    "def random_joke():\n",
    "    global last_joke\n",
    "    \n",
    "    link = 'http://www.jokesoftheday.net/jokes-feed/'\n",
    "    jokes = feedparser.parse(link).entries\n",
    "    ans = jokes[random.randint(0, len(jokes) - 1)].summary\n",
    "    \n",
    "    while len(ans.split()) > 50 and ans != last_joke:\n",
    "        ans = jokes[random.randint(0, len(jokes) - 1)].summary\n",
    "    if ans.index('Read more on') != -1:\n",
    "        ans = ans[:ans.index('Read more on') - 1]\n",
    "    last_joke = ans\n",
    "    \n",
    "    return cleanhtml(last_joke)"
   ]
  },
  {
   "cell_type": "code",
   "execution_count": 9,
   "metadata": {},
   "outputs": [],
   "source": [
    "def cleanhtml(raw_html):\n",
    "    cleanr = re.compile('<.*?>|&([a-z0-9]+|#[0-9]{1,6}|#x[0-9a-f]{1,6});')\n",
    "    cleantext = re.sub(cleanr, '', raw_html)\n",
    "    return ' '.join(cleantext.split())\n"
   ]
  },
  {
   "cell_type": "code",
   "execution_count": 39,
   "metadata": {},
   "outputs": [
    {
     "data": {
      "text/plain": [
       "'I used to work in a shoe-recycling shop. It was sole-destroying Author: Alex Horne, Joke was second on August 2013 on Fringe’s best one-liner prize #joke #short'"
      ]
     },
     "execution_count": 39,
     "metadata": {},
     "output_type": "execute_result"
    }
   ],
   "source": [
    "test = random_joke()\n",
    "cleanhtml(test)"
   ]
  },
  {
   "cell_type": "code",
   "execution_count": 20,
   "metadata": {},
   "outputs": [
    {
     "data": {
      "text/plain": [
       "'A man was walking down the street when he was accosted by a particularly dirty and shabby-looking homeless man who asked him for a couple of dollars for dinner.The man took out his wallet, extracted ten dollars and asked, \"If I give you this money, will you buy some beer with it instead of dinner?\"\"No, I had to stop drinking years ago,\" the homeless man replied.\"Will you use it to go fishing instead of buying food?\" the man asked.\"No, I don\\'t waste time fishing,\" the homeless man said. \"I need to spend all my time trying to stay alive.\"\"Will you spend this on greens fees at a golf course instead of food?\" the man asked.\"Are you NUTS!\" replied the homeless man. \"I haven\\'t played golf in 20 years!\"\"Will you spend the money on a woman in the red light district instead of food?\" the man asked.\"What disease would I get for ten lousy bucks?\" exclaimed the homeless man.\"Well,\" said the man, \"I\\'m not going to give you the money. Instead, I\\'m going to take you home for a terrific dinner cooked by my wife.\"The homeless man was astounded. \"Won\\'t your wife be furious with you for doing that? I know I\\'m dirty, and I probably smell pretty disgusting.\"The man replied, \"That\\'s okay. It\\'s important for her to see what a man looks like after he has given up beer, fishing, golf, and sex.\" #joke #beer Read more on page http://www.jokesoftheday.net'"
      ]
     },
     "execution_count": 20,
     "metadata": {},
     "output_type": "execute_result"
    }
   ],
   "source": [
    "cleanhtml(test)"
   ]
  },
  {
   "cell_type": "code",
   "execution_count": null,
   "metadata": {},
   "outputs": [],
   "source": []
  }
 ],
 "metadata": {
  "kernelspec": {
   "display_name": "Python 3",
   "language": "python",
   "name": "python3"
  },
  "language_info": {
   "codemirror_mode": {
    "name": "ipython",
    "version": 3
   },
   "file_extension": ".py",
   "mimetype": "text/x-python",
   "name": "python",
   "nbconvert_exporter": "python",
   "pygments_lexer": "ipython3",
   "version": "3.7.0"
  }
 },
 "nbformat": 4,
 "nbformat_minor": 2
}
