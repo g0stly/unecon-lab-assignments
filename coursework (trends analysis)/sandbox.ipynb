{
 "cells": [
  {
   "cell_type": "code",
   "execution_count": 33,
   "metadata": {},
   "outputs": [],
   "source": [
    "import sqlite3\n",
    "from bs4 import BeautifulSoup"
   ]
  },
  {
   "cell_type": "code",
   "execution_count": 81,
   "metadata": {},
   "outputs": [],
   "source": [
    "# обработка базы данных\n",
    "\n",
    "conn = sqlite3.connect('sberbank_hh.db')\n",
    "cursor = conn.cursor()\n",
    "\n",
    "cursor.execute('SELECT * from vacancy')\n",
    "results = cursor.fetchall()\n",
    "\n",
    "conn.close()"
   ]
  },
  {
   "cell_type": "code",
   "execution_count": 15,
   "metadata": {
    "scrolled": true
   },
   "outputs": [
    {
     "data": {
      "text/plain": [
       "2260"
      ]
     },
     "execution_count": 15,
     "metadata": {},
     "output_type": "execute_result"
    }
   ],
   "source": [
    "len(results)"
   ]
  },
  {
   "cell_type": "code",
   "execution_count": 83,
   "metadata": {},
   "outputs": [],
   "source": [
    "# https://habr.com/ru/post/418281/"
   ]
  },
  {
   "cell_type": "code",
   "execution_count": 79,
   "metadata": {},
   "outputs": [
    {
     "data": {
      "text/plain": [
       "'Общие требования:  Опыт коммерческой разработки в финансовой сфере от 5 лет, отличное понимание особенности разработки, внедрения и поддержки финансового ПО Опыт управления командой разработки от 3 человек с использованием систем контроля версий, средств автоматизации сборки, управления требованиями и конфигурациями Опыт интеграции разработанного ПО с другими системами Понятие о принципах разработки ПО, ООП, паттернах проектирования Умение работать по гибким методологиям (Scrum, kanban)    Необходимые навыки и технологии:  Глубокое понимание Сore java 1.7+ Опыт разработки WEB-приложений на Java. Знание стека j2ee: jms, ejb, jax-ws, mbean, jndi опыт работы с соответствующими серверами  знания xml, sql, hibernate, quartz  Умение проводить code-review    Будет плюсом:  Опыт коммерческой разработки ПО под на IBM WebSphere MQ и IBM WebSphere Application Server. Знание PL/SQL Понимание принципов DevOps      Основная обязанности:  управление командой разработчиков ПО. Разработка средств интеграции системы Golden Source EDM с источниками данных. Тонкая настройка системы Golden Source EDM. Разработка правил обработки входящих данных с помощью xtet-подобного языка (http://www.eclipse.org/Xtext/) Оценка трудозатрат и code-review доработок, передаваемых вендорами/другими разработчиками.    Так же предполагается участие на всех стадиях жизненного цикла разработки ПО: пред-проектное обследование, согласование функциональных/технических требований, проектирование, анализ, нагрузочное тестирование, внедрение, сопровождение, разбор инцидентов.     Мы предлагаем:    трудоустройство согласно ТК РФ; гарантированный доход плюс премиальное вознаграждение; возможность работать рядом с домом/местом учебы; регулярное корпоративное обучение; ДМС, страхование от несчастных случаев и тяжелых заболеваний; материальную помощь и социальную поддержку, корпоративную пенсионную программу; льготные условия кредитования; яркую и насыщенную корпоративную жизнь.  Мы ждем тебя, чтобы строить счастливое будущее вместе!'"
      ]
     },
     "execution_count": 79,
     "metadata": {},
     "output_type": "execute_result"
    }
   ],
   "source": [
    "# в html коде страницы 'обязанности', 'требования' и 'условия работы' лежат в одном и том же разделе. \n",
    "# придется как-то разделять\n",
    "\n",
    "test_vacancy_1 = results[51]\n",
    "soup = BeautifulSoup(test_vacancy_1[5])\n",
    "requirements_1 = soup.find('div', class_='g-user-content').text\n",
    "requirements_1"
   ]
  },
  {
   "cell_type": "code",
   "execution_count": 70,
   "metadata": {},
   "outputs": [
    {
     "data": {
      "text/plain": [
       "'Обязанности: - Разработка прототипа витрин данных со сложной аналитикой для отчетности в рамках управления эффективностью (MS SQL, Oracle, QlickView); - Взаимодействие с продуктовыми подразделения Корпоративного блока и подразделениями планирования; - Поддержка имеющихся аналитических витрин по эффективности и управлению расходами на платформе QlickView; - Доработка бизнес-требований и формирование ТЗ владельцам учетных систем; - Предпроектные работы по созданию прототипов целевых технологических решений по аналитической отчетности на основе MS OLAP, QlickView и т.д.; - Тестирование, поиск и исправление причин расхождений в данных по отчетом и витринам.   Требования: - Высшее математическое/финансовое/техническое образование; - Знание структуры расходов банка, принципов аллокации расходов; - Навыки построения экономических и операционных моделей; - Знания SQL и QlickView будет вашим преимуществом.     Условия работы: Условия: - Официальное трудоустройство, согласно ТК РФ; - Возможность профессионального и карьерного развития; - Премирование (квартальное, годовое); - Социальный пакет (ДМС; санаторно-курортный отдых и т.д.); - Корпоративное обучение; - Активная корпоративная жизнь Банка (спортивные мероприятия, внутренние конкурсы и пр.); - Место работы: Санкт-Петербург, Старо-Петергофский пр. (ст. м. Нарвская).'"
      ]
     },
     "execution_count": 70,
     "metadata": {},
     "output_type": "execute_result"
    }
   ],
   "source": [
    "test_vacancy_2 = results[52]\n",
    "soup = BeautifulSoup(test_vacancy_1[5])\n",
    "requirements_2 = soup.find('div', class_='g-user-content').text\n",
    "requirements_2"
   ]
  },
  {
   "cell_type": "code",
   "execution_count": 64,
   "metadata": {},
   "outputs": [
    {
     "name": "stdout",
     "output_type": "stream",
     "text": [
      "6\n"
     ]
    }
   ],
   "source": [
    "counter = 0\n",
    "for vacancy in results[:50]:\n",
    "    soup = BeautifulSoup(vacancy[5])\n",
    "    requirements = soup.find('div', class_='g-user-content').text\n",
    "    if 'Высшее' in requirements:\n",
    "        counter += 1\n",
    "print(counter)"
   ]
  },
  {
   "cell_type": "code",
   "execution_count": null,
   "metadata": {},
   "outputs": [],
   "source": []
  }
 ],
 "metadata": {
  "kernelspec": {
   "display_name": "Python 3",
   "language": "python",
   "name": "python3"
  },
  "language_info": {
   "codemirror_mode": {
    "name": "ipython",
    "version": 3
   },
   "file_extension": ".py",
   "mimetype": "text/x-python",
   "name": "python",
   "nbconvert_exporter": "python",
   "pygments_lexer": "ipython3",
   "version": "3.7.0"
  }
 },
 "nbformat": 4,
 "nbformat_minor": 2
}
