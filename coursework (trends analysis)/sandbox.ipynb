{
 "cells": [
  {
   "cell_type": "markdown",
   "metadata": {},
   "source": [
    "### Песочница\n",
    "    https://habr.com/ru/post/418281/"
   ]
  },
  {
   "cell_type": "code",
   "execution_count": 169,
   "metadata": {},
   "outputs": [],
   "source": [
    "import sqlite3\n",
    "from bs4 import BeautifulSoup"
   ]
  },
  {
   "cell_type": "code",
   "execution_count": 171,
   "metadata": {},
   "outputs": [],
   "source": [
    "# обработка базы данных\n",
    "\n",
    "original_db = 'C:\\\\Users\\\\busya\\\\Desktop\\\\anaconda\\\\проекты\\\\курсовая\\\\sberbank_hh.db'\n",
    "new_db = 'C:\\\\Users\\\\busya\\\\Desktop\\\\anaconda\\\\проекты\\\\курсовая\\\\updated_vacancies.db'\n",
    "\n",
    "\n",
    "conn = sqlite3.connect(new_db)\n",
    "cursor = conn.cursor()\n",
    "\n",
    "#cursor.execute('SELECT * from vacancy')\n",
    "cursor.execute('SELECT * from vacancies')\n",
    "results = cursor.fetchall()\n",
    "\n",
    "conn.close()"
   ]
  },
  {
   "cell_type": "code",
   "execution_count": 172,
   "metadata": {
    "scrolled": true
   },
   "outputs": [
    {
     "data": {
      "text/plain": [
       "1816"
      ]
     },
     "execution_count": 172,
     "metadata": {},
     "output_type": "execute_result"
    }
   ],
   "source": [
    "len(results)"
   ]
  },
  {
   "cell_type": "code",
   "execution_count": 185,
   "metadata": {},
   "outputs": [
    {
     "data": {
      "text/plain": [
       "'Менеджер по продажам продуктов эквайринга'"
      ]
     },
     "execution_count": 185,
     "metadata": {},
     "output_type": "execute_result"
    }
   ],
   "source": [
    "results[0][1]"
   ]
  },
  {
   "cell_type": "markdown",
   "metadata": {},
   "source": [
    "### Создание новой базы данных\n",
    "    > удаление дубликатов\n",
    "    > приведение к более удобочитаемому виду"
   ]
  },
  {
   "cell_type": "code",
   "execution_count": 6,
   "metadata": {},
   "outputs": [],
   "source": [
    "conn = sqlite3.connect('updated_vacancies.db')\n",
    "cursor = conn.cursor()"
   ]
  },
  {
   "cell_type": "code",
   "execution_count": 181,
   "metadata": {},
   "outputs": [],
   "source": [
    "def get_descr(raw_html):\n",
    "    soup = BeautifulSoup(raw_html)\n",
    "    return soup.find('div', class_='g-user-content').text.strip()"
   ]
  },
  {
   "cell_type": "code",
   "execution_count": 154,
   "metadata": {},
   "outputs": [
    {
     "data": {
      "text/plain": [
       "<sqlite3.Cursor at 0x25755468ce0>"
      ]
     },
     "execution_count": 154,
     "metadata": {},
     "output_type": "execute_result"
    }
   ],
   "source": [
    "conn = sqlite3.connect('C:\\\\Users\\\\busya\\\\Desktop\\\\anaconda\\\\проекты\\\\курсовая\\\\updated_vacancies.db')\n",
    "cursor = conn.cursor()\n",
    "cursor.execute('''CREATE TABLE vacancies (link text, name text, city text, release_date text, description text)''')"
   ]
  },
  {
   "cell_type": "code",
   "execution_count": 155,
   "metadata": {},
   "outputs": [],
   "source": [
    "links = []\n",
    "errors = []\n",
    "\n",
    "for vacancy in results:\n",
    "    \n",
    "    if vacancy[1] in links:\n",
    "        continue\n",
    "    \n",
    "    else:\n",
    "        links.append(vacancy[1])\n",
    "        vac_set = (\n",
    "                    vacancy[1], # link\n",
    "                    vacancy[2], # vacancy name\n",
    "                    vacancy[3].split('<p>')[3][8:-4], # city name\n",
    "                    vacancy[4][:10], # date\n",
    "                    get_descr(vacancy[5]) # description\n",
    "        )\n",
    "        try:\n",
    "            cursor.execute(f'''INSERT INTO vacancies VALUES {vac_set}''')\n",
    "        except:\n",
    "            errors.append(vacancy[1])\n",
    "conn.commit()"
   ]
  },
  {
   "cell_type": "code",
   "execution_count": 166,
   "metadata": {},
   "outputs": [
    {
     "data": {
      "text/plain": [
       "['https://hh.ru/vacancy/27408489', 'https://hh.ru/vacancy/29810176']"
      ]
     },
     "execution_count": 166,
     "metadata": {},
     "output_type": "execute_result"
    }
   ],
   "source": [
    "errors # некорректное описание (использованы спецсимволы)"
   ]
  },
  {
   "cell_type": "code",
   "execution_count": 167,
   "metadata": {},
   "outputs": [],
   "source": [
    "cursor.execute('SELECT * from vacancies')\n",
    "updated_res = cursor.fetchall()\n",
    "conn.close()"
   ]
  },
  {
   "cell_type": "code",
   "execution_count": 168,
   "metadata": {},
   "outputs": [
    {
     "data": {
      "text/plain": [
       "444"
      ]
     },
     "execution_count": 168,
     "metadata": {},
     "output_type": "execute_result"
    }
   ],
   "source": [
    "len(results) - len(updated_res) # удалено вакансий"
   ]
  },
  {
   "cell_type": "markdown",
   "metadata": {},
   "source": [
    "### Что можно сделать с помощью nltk, word2vec?"
   ]
  },
  {
   "cell_type": "code",
   "execution_count": 216,
   "metadata": {},
   "outputs": [],
   "source": [
    "import nltk\n",
    "import string\n",
    "from nltk.corpus import stopwords\n",
    "import re"
   ]
  },
  {
   "cell_type": "code",
   "execution_count": 186,
   "metadata": {},
   "outputs": [],
   "source": [
    "test_descr = [vacancy[4] for vacancy in results[:10]]"
   ]
  },
  {
   "cell_type": "code",
   "execution_count": 239,
   "metadata": {},
   "outputs": [],
   "source": [
    "text = test_descr[2]"
   ]
  },
  {
   "cell_type": "code",
   "execution_count": 240,
   "metadata": {},
   "outputs": [
    {
     "data": {
      "text/plain": [
       "['Если ты:  хочешь построить карьеру в банковском секторе; стремишься стать лидером и развиваться профессионально и личностно; нацелен на достижение лучших результатов для клиентов; мечтаешь работать в инновационной команде профессионалов.',\n",
       " ' Начни карьеру в крупнейшем банке России и СНГ!',\n",
       " 'Как консультант, ты будешь:  продавать онлайн-продукты и услуги банка клиентам в отделении, используя планшет и терминалы самообслуживания (Автоплатеж, Онлайн-вклады, Мобильный банк); объяснять клиентам преимущества использования устройств самообслуживания и проводить обучения по работе с ними; выявлять цели визита клиента в банк и направлять его к соответствующим специалистам отделения.',\n",
       " ' Ты подходишь нам, если ты:  специалист со средним профессиональным/неполным высшим образованием; владеешь программами Microsoft Office, Internet Explorer, Outlook; выдерживаешь высокий темп работы; готов работать в операционном зале в течение всего рабочего дня; доброжелательно относишься к окружающим, готов оказывать помощь; находишь общий язык с людьми разного возраста, пола и социального статуса; ориентирован на высокие результаты в продажах.',\n",
       " ' Мы предлагаем:  трудоустройство согласно ТК РФ; гарантированный доход плюс премиальное вознаграждение; возможность работать рядом с домом/местом учебы; регулярное корпоративное обучение; ДМС, страхование от несчастных случаев и тяжелых заболеваний; материальную помощь и социальную поддержку, корпоративную пенсионную программу; льготные условия кредитования; яркую и насыщенную корпоративную жизнь.',\n",
       " ' Интересна вакансия?  жми «откликнуться»; запиши видеоинтервью по ссылке из смс или письма с любого удобного устройства пройди собеседование с руководителем',\n",
       " '',\n",
       " 'Мы ждем тебя, чтобы строить счастливое будущее вместе!']"
      ]
     },
     "execution_count": 240,
     "metadata": {},
     "output_type": "execute_result"
    }
   ],
   "source": [
    "text.split('   ')"
   ]
  },
  {
   "cell_type": "code",
   "execution_count": 256,
   "metadata": {},
   "outputs": [
    {
     "data": {
      "text/plain": [
       "'https://hh.ru/vacancy/29655166'"
      ]
     },
     "execution_count": 256,
     "metadata": {},
     "output_type": "execute_result"
    }
   ],
   "source": [
    "results[1][0]"
   ]
  },
  {
   "cell_type": "code",
   "execution_count": 253,
   "metadata": {},
   "outputs": [
    {
     "data": {
      "text/plain": [
       "'https://hh.ru/vacancy/29655039'"
      ]
     },
     "execution_count": 253,
     "metadata": {},
     "output_type": "execute_result"
    }
   ],
   "source": [
    "results[2][0]"
   ]
  },
  {
   "cell_type": "code",
   "execution_count": 283,
   "metadata": {},
   "outputs": [
    {
     "data": {
      "text/plain": [
       "['Обязанности:  увеличение объемов бизнеса с закрепленными клиентами CIB (крупнейшего бизнеса) и обеспечение их комплексного обслуживания с учетом индивидуальных потребностей, вне зависимости от места их регистрации и/или территории совершения операции; обеспечение максимальной удовлетворенности клиентов CIB за счет первоклассного качества обслуживания и предоставления полностью индивидуализированных решений на базе широкой продуктовой линейки; организация работы команды с целью реализации бизнес-задач/проектов',\n",
       " '    Требования:  высшее экономическое/финансовое образование; опыт работы в корпоративном бизнесе не менее 3-х лет; обязателен опыт работы в области кредитования юридических лиц и/или в области продаж корпоративным клиентам от 2-х лет; знание и понимание разных отраслей экономики; знание английского языка не ниже уровня Intermediate; навыки управления проектами/командой; нацеленность на результат; высокий уровень коммуникативных навыков',\n",
       " '  Условия работы:  работа в крупнейшем банке России; трудоустройство согласно ТК РФ; регулярное корпоративное обучение; ДМС, страхование от несчастных случаев и тяжелых заболеваний; материальная помощь и социальная поддержка, корпоративная пенсионная программа; льготные условия кредитования; яркая и насыщенная корпоративная жизнь',\n",
       " '']"
      ]
     },
     "execution_count": 283,
     "metadata": {},
     "output_type": "execute_result"
    }
   ],
   "source": [
    "results[1245][4].split('.')"
   ]
  },
  {
   "cell_type": "code",
   "execution_count": 532,
   "metadata": {},
   "outputs": [],
   "source": [
    "def check_it(text):\n",
    "    ans = False\n",
    "    possible_definitions = ['Ты подходишь нам, если ты', 'Требования', 'Навыки', 'Технические компетенции', 'Если есть',\n",
    "                           'ТРЕБОВАНИЯ К КАНДИДАТУ', 'Необходимые навыки и технологии', 'Что мы ждем от кандидата',\n",
    "                           'Мы ожидаем от Вас', 'Мы ждем, что ты', 'Профессиональные компетенции', 'Ты подходишь нам, если',\n",
    "                           'Профессиональные навыки', 'Мы ждём от тебя', 'Мы ожидаем, что ты', 'Наши ожидания',\n",
    "                           'Что мы хотим в вас видеть?', 'От Вас нужно', 'Стэк',\n",
    "                           'Мы определили следующие обязательные требования к кандидату', 'Требование', 'Общие требования',\n",
    "                           'Требуемые навыки', 'Профессиональные требования', 'Обязательно', 'От вас нужно', 'Чего ждем от кандидата',\n",
    "                           'Что ждем', 'Опыт работы с технологиями', 'Мы ожидаем', 'ТЕХНИЧЕСКИЕ КОМПЕТЕНЦИИ', 'ТРЕБОВАНИЯ',\n",
    "                           'Знание технологий', 'Опыт:', 'Обязательные требования', 'Мы ждем что вы умеете/обладаете']\n",
    "    \n",
    "    for def_ in possible_definitions:\n",
    "        if def_ in text:\n",
    "            ans = True\n",
    "            break\n",
    "    return ans"
   ]
  },
  {
   "cell_type": "code",
   "execution_count": 533,
   "metadata": {},
   "outputs": [],
   "source": [
    "simple_texts = 0\n",
    "other = []\n",
    "for i in range(len(results)):\n",
    "    if check_it(results[i][4]):\n",
    "        simple_texts += 1\n",
    "    else:\n",
    "        other.append(i)"
   ]
  },
  {
   "cell_type": "code",
   "execution_count": 534,
   "metadata": {},
   "outputs": [
    {
     "data": {
      "text/plain": [
       "1772"
      ]
     },
     "execution_count": 534,
     "metadata": {},
     "output_type": "execute_result"
    }
   ],
   "source": [
    "simple_texts"
   ]
  },
  {
   "cell_type": "code",
   "execution_count": 535,
   "metadata": {},
   "outputs": [
    {
     "data": {
      "text/plain": [
       "[99, 268, 273, 301, 391, 443, 578, 670, 745, 746]"
      ]
     },
     "execution_count": 535,
     "metadata": {},
     "output_type": "execute_result"
    }
   ],
   "source": [
    "other[:10]"
   ]
  },
  {
   "cell_type": "code",
   "execution_count": 536,
   "metadata": {},
   "outputs": [
    {
     "data": {
      "text/plain": [
       "'Кто же мы?Мы – команда разработки Apache Ignite, распределенной базы данных с открытым исходным кодом, которую, в своих продуктах используют тысячи разработчиков во всем мире. Она так же является сердцем многих наших сервисов, которыми уже завтра будут пользоваться миллионы клиентов по всей России.Больше про Apache Ignite: ignite.apache.orgЧем придется заниматься?    Нагрузочным тестированием;   Подготовкой профилей нагрузки;   Анализом результатов тестов и поиском дефектов, вызывающих деградацию производительности.   Изучением нового, ведь часто задачи, с которыми вам придется столкнутся, не имеют типовых решений.   Мы ждем что вы умеете/обладаете:   Опытом тестирования от трех лет;   Опытом нагрузочного тестирование от одного года;   Опытом подготовки профилей нагрузки;   Знанием теории и методик тестирования;   Опытом в автоматизации (Java/Python);   Знанием основ Linux/Unix.   Круто если вы так же:  Имеет опыт работы с Apache Ignite; Имеете опыт работы/тестирования распределенных систем и баз данных; Умеете работать c Docker; Умеете работать с Ansible; Владеете SQL; Умеете писать на bash;  Условия:  трудоустройство согласно ТК РФ; регулярное корпоративное обучение; ДМС, страхование от несчастных случаев и тяжелых заболеваний; материальная помощь и социальная поддержка, корпоративная пенсионная программа; льготные условия кредитования; яркая и насыщенная корпоративная жизнь.'"
      ]
     },
     "execution_count": 536,
     "metadata": {},
     "output_type": "execute_result"
    }
   ],
   "source": [
    "results[711][4]"
   ]
  },
  {
   "cell_type": "code",
   "execution_count": null,
   "metadata": {},
   "outputs": [],
   "source": [
    "nontrivial = [194, 220]"
   ]
  },
  {
   "cell_type": "markdown",
   "metadata": {},
   "source": [
    "### Что нужно научиться делать?\n",
    "    > выделять заголовки подтем"
   ]
  },
  {
   "cell_type": "code",
   "execution_count": null,
   "metadata": {},
   "outputs": [],
   "source": []
  }
 ],
 "metadata": {
  "kernelspec": {
   "display_name": "Python 3",
   "language": "python",
   "name": "python3"
  },
  "language_info": {
   "codemirror_mode": {
    "name": "ipython",
    "version": 3
   },
   "file_extension": ".py",
   "mimetype": "text/x-python",
   "name": "python",
   "nbconvert_exporter": "python",
   "pygments_lexer": "ipython3",
   "version": "3.7.0"
  }
 },
 "nbformat": 4,
 "nbformat_minor": 2
}
