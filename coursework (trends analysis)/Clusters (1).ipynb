{
 "cells": [
  {
   "cell_type": "code",
   "execution_count": 1,
   "metadata": {},
   "outputs": [],
   "source": [
    "import requests\n",
    "import json\n",
    "import sqlite3\n",
    "from bs4 import BeautifulSoup\n",
    "import nltk\n",
    "import matplotlib\n",
    "import matplotlib.pyplot as plt\n",
    "from sklearn import svm\n",
    "#from sklearn.datasets import fetch_openml\n",
    "import numpy as np\n",
    "import gensim\n",
    "from gensim.utils import simple_preprocess\n",
    "import string\n",
    "from nltk.corpus import stopwords\n",
    "import pymorphy2\n",
    "morph = pymorphy2.MorphAnalyzer()"
   ]
  },
  {
   "cell_type": "code",
   "execution_count": 2,
   "metadata": {},
   "outputs": [],
   "source": [
    "filtered_db = 'data_set.db'\n",
    "\n",
    "conn = sqlite3.connect(filtered_db)\n",
    "cursor = conn.cursor()\n",
    "\n",
    "cursor.execute('SELECT * from vacancies')\n",
    "filtered = cursor.fetchall()\n",
    "conn.close()"
   ]
  },
  {
   "cell_type": "markdown",
   "metadata": {},
   "source": [
    "### У нас есть 88 ключевых слов, то есть текст каждого объявления преобразуем в 88-мерный вектор"
   ]
  },
  {
   "cell_type": "code",
   "execution_count": 3,
   "metadata": {},
   "outputs": [
    {
     "data": {
      "text/plain": [
       "88"
      ]
     },
     "execution_count": 3,
     "metadata": {},
     "output_type": "execute_result"
    }
   ],
   "source": [
    "mnogo_clasterov = 'office, windows, macos, linux, web, html, javascript, java, css, angularjs, reactjs, git, cvs, sql, node, soap, rest, agile, navision, c#, c++, assembler, windbg, TFS, Preforcescala, perl, awk, bash, orm, вебфреймворки, soap, ml, dm, sas baseguideminer, pydata, pandas, numpy, skipy, scikitlearn, kerastensoflow,  django, python, shell, teradata, perl, ruby, субд, oracle, mssql, gcc, llvm, itil, cobit, btc, mvc, mvvm, ioc, di, dagger, android, object, ivec, cpu, logreg, svm, decision trees, gradientboosting, svd, pca, cnn, lstm,ооп, solid, ioc, gof, jquery, learning, ibm, hp, vmware, citrix, nginx, xml, nix, hlha, iis, boost, selenium, ansible'.split(\", \")\n",
    "len(mnogo_clasterov)"
   ]
  },
  {
   "cell_type": "code",
   "execution_count": 15,
   "metadata": {},
   "outputs": [
    {
     "data": {
      "text/plain": [
       "56"
      ]
     },
     "execution_count": 15,
     "metadata": {},
     "output_type": "execute_result"
    }
   ],
   "source": [
    "clasters = 'office, windows, macos, linux, web, html, javascript, java, css, angularjs, reactjs, git, cvs, sql, node, soap, rest, agile, navision, c#, c++, assembler, windbg, TFS, Preforcescala, perl, awk, bash, orm, вебфреймворки, soap, ml, dm, sas baseguideminer, pydata, pandas, numpy, skipy, scikitlearn, kerastensoflow, django, python, shell, teradata, perl, ruby, субд, oracle, mssql, gcc, llvm, cobit, btc, mvc, mvvm, ioc'.split(\", \")\n",
    "len(clasters)"
   ]
  },
  {
   "cell_type": "code",
   "execution_count": 16,
   "metadata": {},
   "outputs": [],
   "source": [
    "list_vect = []\n",
    "for i in filtered:\n",
    "    vect = []\n",
    "    for j in clasters:\n",
    "        if j in i[5].lower():\n",
    "            vect.append(1)\n",
    "        else:\n",
    "            vect.append(0)\n",
    "    list_vect.append(vect)"
   ]
  },
  {
   "cell_type": "code",
   "execution_count": 22,
   "metadata": {},
   "outputs": [],
   "source": [
    "x = list_vect[152]"
   ]
  },
  {
   "cell_type": "code",
   "execution_count": 24,
   "metadata": {
    "scrolled": true
   },
   "outputs": [],
   "source": [
    "example_vec = {clasters[i]: x[i] for i in range(len(clasters))}"
   ]
  },
  {
   "cell_type": "code",
   "execution_count": 25,
   "metadata": {
    "scrolled": true
   },
   "outputs": [
    {
     "data": {
      "text/plain": [
       "{'office': 0,\n",
       " 'windows': 0,\n",
       " 'macos': 0,\n",
       " 'linux': 0,\n",
       " 'web': 0,\n",
       " 'html': 0,\n",
       " 'javascript': 0,\n",
       " 'java': 1,\n",
       " 'css': 0,\n",
       " 'angularjs': 0,\n",
       " 'reactjs': 0,\n",
       " 'git': 0,\n",
       " 'cvs': 0,\n",
       " 'sql': 0,\n",
       " 'node': 1,\n",
       " 'soap': 0,\n",
       " 'rest': 0,\n",
       " 'agile': 1,\n",
       " 'navision': 0,\n",
       " 'c#': 0,\n",
       " 'c++': 0,\n",
       " 'assembler': 0,\n",
       " 'windbg': 0,\n",
       " 'TFS': 0,\n",
       " 'Preforcescala': 0,\n",
       " 'perl': 0,\n",
       " 'awk': 0,\n",
       " 'bash': 0,\n",
       " 'orm': 0,\n",
       " 'вебфреймворки': 0,\n",
       " 'ml': 0,\n",
       " 'dm': 0,\n",
       " 'sas baseguideminer': 0,\n",
       " 'pydata': 0,\n",
       " 'pandas': 0,\n",
       " 'numpy': 0,\n",
       " 'skipy': 0,\n",
       " 'scikitlearn': 0,\n",
       " 'kerastensoflow': 0,\n",
       " 'django': 0,\n",
       " 'python': 0,\n",
       " 'shell': 0,\n",
       " 'teradata': 0,\n",
       " 'ruby': 0,\n",
       " 'субд': 0,\n",
       " 'oracle': 1,\n",
       " 'mssql': 0,\n",
       " 'gcc': 0,\n",
       " 'llvm': 0,\n",
       " 'cobit': 0,\n",
       " 'btc': 0,\n",
       " 'mvc': 0,\n",
       " 'mvvm': 0,\n",
       " 'ioc': 0}"
      ]
     },
     "execution_count": 25,
     "metadata": {},
     "output_type": "execute_result"
    }
   ],
   "source": [
    "example_vec"
   ]
  },
  {
   "cell_type": "markdown",
   "metadata": {},
   "source": [
    "### Х - список векторов объявлений, у - названия профессий"
   ]
  },
  {
   "cell_type": "code",
   "execution_count": 170,
   "metadata": {},
   "outputs": [],
   "source": [
    "y = [i[1] for i in filtered]\n",
    "X = list_vect"
   ]
  },
  {
   "cell_type": "code",
   "execution_count": 171,
   "metadata": {},
   "outputs": [],
   "source": [
    "X = np.array(X, float)\n",
    "y = np.array(y, str)"
   ]
  },
  {
   "cell_type": "markdown",
   "metadata": {},
   "source": [
    "## На примере конкретного"
   ]
  },
  {
   "cell_type": "code",
   "execution_count": 172,
   "metadata": {},
   "outputs": [],
   "source": [
    "some_digit = X[100]"
   ]
  },
  {
   "cell_type": "code",
   "execution_count": 173,
   "metadata": {},
   "outputs": [],
   "source": [
    "some_digit_image = some_digit.reshape(8, 7)"
   ]
  },
  {
   "cell_type": "code",
   "execution_count": 174,
   "metadata": {},
   "outputs": [
    {
     "data": {
      "image/png": "[encoded data removed]",
      "text/plain": [
       "<Figure size 432x288 with 1 Axes>"
      ]
     },
     "metadata": {
      "needs_background": "light"
     },
     "output_type": "display_data"
    }
   ],
   "source": [
    "plt.imshow(some_digit_image, cmap=matplotlib.cm.binary, interpolation='nearest')\n",
    "plt.axis('off')\n",
    "plt.show()"
   ]
  },
  {
   "cell_type": "code",
   "execution_count": 175,
   "metadata": {},
   "outputs": [
    {
     "data": {
      "text/plain": [
       "'Java-разработчик'"
      ]
     },
     "execution_count": 175,
     "metadata": {},
     "output_type": "execute_result"
    }
   ],
   "source": [
    "y[100]"
   ]
  },
  {
   "cell_type": "markdown",
   "metadata": {},
   "source": [
    "## Тренируем модель"
   ]
  },
  {
   "cell_type": "code",
   "execution_count": 176,
   "metadata": {},
   "outputs": [],
   "source": [
    "X_train, X_test, y_train, y_test = X[:100], X[1000:1100], y[:100], y[1000:1100]"
   ]
  },
  {
   "cell_type": "code",
   "execution_count": 177,
   "metadata": {},
   "outputs": [],
   "source": [
    "shuffle_index = np.random.permutation(100)\n",
    "X_train, y_train = X_train[shuffle_index], y_train[shuffle_index]"
   ]
  },
  {
   "cell_type": "code",
   "execution_count": 178,
   "metadata": {},
   "outputs": [],
   "source": [
    "clf = svm.SVC(gamma='scale')"
   ]
  },
  {
   "cell_type": "code",
   "execution_count": 179,
   "metadata": {},
   "outputs": [
    {
     "data": {
      "text/plain": [
       "SVC(C=1.0, break_ties=False, cache_size=200, class_weight=None, coef0=0.0,\n",
       "    decision_function_shape='ovr', degree=3, gamma='scale', kernel='rbf',\n",
       "    max_iter=-1, probability=False, random_state=None, shrinking=True,\n",
       "    tol=0.001, verbose=False)"
      ]
     },
     "execution_count": 179,
     "metadata": {},
     "output_type": "execute_result"
    }
   ],
   "source": [
    "clf.fit(X_train, y_train)"
   ]
  },
  {
   "cell_type": "code",
   "execution_count": 180,
   "metadata": {},
   "outputs": [
    {
     "data": {
      "image/png": "[encoded data removed]",
      "text/plain": [
       "<Figure size 432x288 with 1 Axes>"
      ]
     },
     "metadata": {
      "needs_background": "light"
     },
     "output_type": "display_data"
    }
   ],
   "source": [
    "some_digit2 = X_test[1]\n",
    "some_digit_image2 = some_digit2.reshape(8, 7)\n",
    "plt.imshow(some_digit_image2, cmap=matplotlib.cm.binary, interpolation='nearest')\n",
    "plt.axis('off')\n",
    "plt.show()"
   ]
  },
  {
   "cell_type": "code",
   "execution_count": 181,
   "metadata": {},
   "outputs": [
    {
     "data": {
      "text/plain": [
       "array(['Главный инженер по разработке'], dtype='<U98')"
      ]
     },
     "execution_count": 181,
     "metadata": {},
     "output_type": "execute_result"
    }
   ],
   "source": [
    "clf.predict([some_digit2])"
   ]
  },
  {
   "cell_type": "markdown",
   "metadata": {},
   "source": [
    "## Первые 30 объявлений"
   ]
  },
  {
   "cell_type": "code",
   "execution_count": 182,
   "metadata": {},
   "outputs": [
    {
     "data": {
      "text/plain": [
       "['ML Engineer / Python developer',\n",
       " 'Инженер удаленной технической поддержки рабочих мест',\n",
       " 'Frontend-разработчик (React.JS)',\n",
       " 'Full stack developer',\n",
       " 'Главный инженер по Java разработке',\n",
       " 'IOS разработчик',\n",
       " 'Data Science',\n",
       " 'Python_Главный инженер по разработке',\n",
       " 'Эксперт Linux/Unix',\n",
       " 'Django разработчик',\n",
       " 'Администратор тестовых сред',\n",
       " 'Главный инженер',\n",
       " 'UХ/ UI дизайнер со знанием Qlik Sense/View и React',\n",
       " 'JavaScript разработчик',\n",
       " 'Senior Java Developer в ДомКлик',\n",
       " 'Java-разработчик',\n",
       " 'Главный инженер (сопровождение контактных центров; ELK)',\n",
       " 'Java разработчик',\n",
       " 'Системный аналитик',\n",
       " 'Data scientist',\n",
       " 'Главный инженер по разработке']"
      ]
     },
     "execution_count": 182,
     "metadata": {},
     "output_type": "execute_result"
    }
   ],
   "source": [
    "clusters = []\n",
    "for i in X:\n",
    "    clusters.append(clf.predict([i])[0])\n",
    "clusters = list(set(clusters))\n",
    "clusters"
   ]
  },
  {
   "cell_type": "code",
   "execution_count": 183,
   "metadata": {},
   "outputs": [],
   "source": [
    "cluster_d = {x: [] for x in clusters}\n",
    "for i in range(1215):\n",
    "    cluster_d[clf.predict([X[i]])[0]].append(i)"
   ]
  },
  {
   "cell_type": "code",
   "execution_count": 184,
   "metadata": {
    "scrolled": true
   },
   "outputs": [
    {
     "data": {
      "text/plain": [
       "[1, 1, 1, 26, 1, 3, 2, 1, 1, 1, 2, 5, 2, 2, 3, 7, 1, 46, 571, 1, 537]"
      ]
     },
     "execution_count": 184,
     "metadata": {},
     "output_type": "execute_result"
    }
   ],
   "source": [
    "[len(cluster_d[x]) for x in cluster_d]"
   ]
  },
  {
   "cell_type": "code",
   "execution_count": 185,
   "metadata": {},
   "outputs": [
    {
     "data": {
      "text/plain": [
       "dict_keys(['ML Engineer / Python developer', 'Инженер удаленной технической поддержки рабочих мест', 'Frontend-разработчик (React.JS)', 'Full stack developer', 'Главный инженер по Java разработке', 'IOS разработчик', 'Data Science', 'Python_Главный инженер по разработке', 'Эксперт Linux/Unix', 'Django разработчик', 'Администратор тестовых сред', 'Главный инженер', 'UХ/ UI дизайнер со знанием Qlik Sense/View и React', 'JavaScript разработчик', 'Senior Java Developer в ДомКлик', 'Java-разработчик', 'Главный инженер (сопровождение контактных центров; ELK)', 'Java разработчик', 'Системный аналитик', 'Data scientist', 'Главный инженер по разработке'])"
      ]
     },
     "execution_count": 185,
     "metadata": {},
     "output_type": "execute_result"
    }
   ],
   "source": [
    "cluster_d.keys()"
   ]
  },
  {
   "cell_type": "code",
   "execution_count": null,
   "metadata": {},
   "outputs": [],
   "source": []
  }
 ],
 "metadata": {
  "kernelspec": {
   "display_name": "Python 3",
   "language": "python",
   "name": "python3"
  },
  "language_info": {
   "codemirror_mode": {
    "name": "ipython",
    "version": 3
   },
   "file_extension": ".py",
   "mimetype": "text/x-python",
   "name": "python",
   "nbconvert_exporter": "python",
   "pygments_lexer": "ipython3",
   "version": "3.7.0"
  }
 },
 "nbformat": 4,
 "nbformat_minor": 2
}
