{
 "cells": [
  {
   "cell_type": "markdown",
   "metadata": {},
   "source": [
    "## Что нужно сделать?\n",
    "    (+) переделать получение описаний с запроса к api на поиск по данной html-странице\n",
    "    (+) обработать все базы и выделить нужные вакансии, перенести в новую базу\n",
    "    (+) выделить из каждой вакансии список требований\n",
    "    (+) перенести сюда то, что скинул Саня\n",
    "    (+) сделать окончательную удобную! базу (id, работодатель, дата публикации, город, требования) "
   ]
  },
  {
   "cell_type": "code",
   "execution_count": 2,
   "metadata": {},
   "outputs": [],
   "source": [
    "import sqlite3\n",
    "import requests\n",
    "import json\n",
    "from bs4 import BeautifulSoup"
   ]
  },
  {
   "cell_type": "code",
   "execution_count": 104,
   "metadata": {},
   "outputs": [],
   "source": [
    "final = 'C:\\\\Users\\\\mag\\\\Desktop\\\\final.db'\n",
    "\n",
    "conn = sqlite3.connect(final)\n",
    "cursor = conn.cursor()\n",
    "\n",
    "cursor.execute('SELECT * from vacancy')\n",
    "final_db = cursor.fetchall()\n",
    "conn.close()"
   ]
  },
  {
   "cell_type": "markdown",
   "metadata": {},
   "source": [
    "### Создание новой \"хорошей\" базы данных\n",
    "    1. используем hh.api для сбора полезных для инфографики характеристик"
   ]
  },
  {
   "cell_type": "code",
   "execution_count": 111,
   "metadata": {},
   "outputs": [],
   "source": [
    "def collect_data(id_):\n",
    "    req = requests.get('https://api.hh.ru/vacancies/' + id_).json()\n",
    "    new_line = (\n",
    "        id_,\n",
    "        req['name'],\n",
    "        req['area']['name'],\n",
    "        req['employer']['name'],\n",
    "        req['published_at'],\n",
    "        req['description']\n",
    "    )\n",
    "    return new_line"
   ]
  },
  {
   "cell_type": "code",
   "execution_count": 113,
   "metadata": {
    "scrolled": true
   },
   "outputs": [
    {
     "name": "stdout",
     "output_type": "stream",
     "text": [
      "осталось 1200 вакансий.\n",
      "осталось 1100 вакансий.\n",
      "осталось 1000 вакансий.\n",
      "осталось 900 вакансий.\n",
      "осталось 800 вакансий.\n",
      "осталось 700 вакансий.\n",
      "осталось 600 вакансий.\n",
      "осталось 500 вакансий.\n",
      "осталось 400 вакансий.\n",
      "осталось 300 вакансий.\n",
      "осталось 200 вакансий.\n",
      "осталось 100 вакансий.\n",
      "осталось 0 вакансий.\n"
     ]
    }
   ],
   "source": [
    "beautiful_db = []\n",
    "left = len(final_db)\n",
    "for job in final_db:\n",
    "    beautiful_db.append(collect_data(job[0]))\n",
    "    left -= 1\n",
    "    if left % 100 == 0:\n",
    "        print(f'осталось {left} вакансий.')        "
   ]
  },
  {
   "cell_type": "code",
   "execution_count": 118,
   "metadata": {},
   "outputs": [],
   "source": [
    "#conn = sqlite3.connect('C:\\\\Users\\\\mag\\\\Desktop\\\\data_set.db')\n",
    "#cursor = conn.cursor()\n",
    "#cursor.execute('''CREATE TABLE vacancies (id text, name text, city text, \n",
    "#                                            employer text, publication_date text, description text)''')\n",
    "#for job in beautiful_db:\n",
    "#    try:\n",
    "#        cursor.execute(f'''INSERT INTO vacancies VALUES {job}''')\n",
    "#    except:\n",
    "#        pass\n",
    "#conn.commit()"
   ]
  },
  {
   "cell_type": "code",
   "execution_count": 122,
   "metadata": {},
   "outputs": [],
   "source": [
    "final = 'C:\\\\Users\\\\mag\\\\Desktop\\\\data_set.db'\n",
    "\n",
    "conn = sqlite3.connect(final)\n",
    "cursor = conn.cursor()\n",
    "\n",
    "cursor.execute('SELECT * from vacancies')\n",
    "results = cursor.fetchall()\n",
    "conn.close()"
   ]
  },
  {
   "cell_type": "code",
   "execution_count": 171,
   "metadata": {},
   "outputs": [
    {
     "data": {
      "text/plain": [
       "('29654641',\n",
       " 'Frontend разработчик',\n",
       " 'Москва',\n",
       " 'Сбербанк',\n",
       " '2019-01-15T10:15:40+0300',\n",
       " '<p><strong>Требования: </strong></p><p>Опыт web разработки от 3 лет (HTML, HTML5, CSS, JavaScript, препроцессинг CSS)<br />Опыт разработки на библиотеках и фреймворках (AngularJS, ReactJS)<br />Активное использование инструментов контроля версий (Git, CVS)<br />Умение работать с базами данных и языками запросов (SQL)<br />Опыт работы с серверными технологиями (Node.js)<br />Взаимодействие с бекендом (SOAP/REST)</p><div><p></p><p><b>Условия работы:</b></p><p><strong>Мы предлагаем:</strong></p><p> </p><ul><li>трудоустройство согласно ТК РФ;</li><li>гарантированный доход плюс премиальное вознаграждение;</li><li>возможность работать рядом с домом/местом учебы;</li><li>регулярное корпоративное обучение;</li><li>ДМС, страхование от несчастных случаев и тяжелых заболеваний;</li><li>материальную помощь и социальную поддержку, корпоративную пенсионную программу;</li><li>льготные условия кредитования;</li><li>яркую и насыщенную корпоративную жизнь.<br /></li></ul><p><strong>Мы ждем тебя, чтобы строить счастливое будущее вместе!</strong></p></div>')"
      ]
     },
     "execution_count": 171,
     "metadata": {},
     "output_type": "execute_result"
    }
   ],
   "source": [
    "results[1]"
   ]
  },
  {
   "cell_type": "markdown",
   "metadata": {},
   "source": [
    "### Формирование списка всех возможных технических навыков\n",
    "    1. выкачка с википедии\n",
    "    2. доп. анализ получившихся требований с целью обнаружения английский названий\n",
    "    3. добавление аббревиатур"
   ]
  },
  {
   "cell_type": "code",
   "execution_count": 125,
   "metadata": {},
   "outputs": [],
   "source": [
    "link = 'https://ru.wikipedia.org/wiki/Список_языков_программирования_по_категориям'"
   ]
  },
  {
   "cell_type": "code",
   "execution_count": 156,
   "metadata": {},
   "outputs": [],
   "source": [
    "alphabet = 'абвгдеёжзийклмнопрстуфхцчщшьыъэюя'"
   ]
  },
  {
   "cell_type": "code",
   "execution_count": 134,
   "metadata": {},
   "outputs": [],
   "source": [
    "soup = BeautifulSoup(requests.get(link).text, 'lxml')"
   ]
  },
  {
   "cell_type": "code",
   "execution_count": 164,
   "metadata": {},
   "outputs": [],
   "source": [
    "base = [y for y in [x.text.lower() for x in soup.findAll('li')][20:-67] if set(y) & set(alphabet) == set()]"
   ]
  },
  {
   "cell_type": "code",
   "execution_count": 165,
   "metadata": {},
   "outputs": [
    {
     "name": "stdout",
     "output_type": "stream",
     "text": [
      "161\n"
     ]
    },
    {
     "data": {
      "text/plain": [
       "['aspectc++', 'aspectj', 'caesarj', 'compose*', 'objectteams']"
      ]
     },
     "execution_count": 165,
     "metadata": {},
     "output_type": "execute_result"
    }
   ],
   "source": [
    "print(len(base))\n",
    "base[:5]"
   ]
  },
  {
   "cell_type": "code",
   "execution_count": 169,
   "metadata": {
    "scrolled": true
   },
   "outputs": [
    {
     "data": {
      "text/plain": [
       "['aspectc++', 'aspectj', 'caesarj', 'compose*', 'objectteams']"
      ]
     },
     "execution_count": 169,
     "metadata": {},
     "output_type": "execute_result"
    }
   ],
   "source": [
    "monosyllabic = [x for x in base if len(x.split()) == 1] # односложные названия\n",
    "monosyllabic[:5]"
   ]
  },
  {
   "cell_type": "code",
   "execution_count": null,
   "metadata": {},
   "outputs": [],
   "source": []
  }
 ],
 "metadata": {
  "kernelspec": {
   "display_name": "Python 3",
   "language": "python",
   "name": "python3"
  },
  "language_info": {
   "codemirror_mode": {
    "name": "ipython",
    "version": 3
   },
   "file_extension": ".py",
   "mimetype": "text/x-python",
   "name": "python",
   "nbconvert_exporter": "python",
   "pygments_lexer": "ipython3",
   "version": "3.6.5"
  }
 },
 "nbformat": 4,
 "nbformat_minor": 2
}
