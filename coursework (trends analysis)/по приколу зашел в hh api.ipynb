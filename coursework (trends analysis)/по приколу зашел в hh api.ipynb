{
 "cells": [
  {
   "cell_type": "code",
   "execution_count": 1,
   "metadata": {},
   "outputs": [],
   "source": [
    "import requests\n",
    "import sqlite3\n",
    "import json\n",
    "from bs4 import BeautifulSoup"
   ]
  },
  {
   "cell_type": "code",
   "execution_count": 2,
   "metadata": {},
   "outputs": [],
   "source": [
    "new_db = 'C:\\\\Users\\\\busya\\\\Desktop\\\\anaconda\\\\проекты\\\\курсовая\\\\updated_vacancies.db'\n",
    "\n",
    "conn = sqlite3.connect(new_db)\n",
    "cursor = conn.cursor()\n",
    "\n",
    "cursor.execute('SELECT * from vacancies')\n",
    "results = cursor.fetchall()\n",
    "\n",
    "conn.close()"
   ]
  },
  {
   "cell_type": "code",
   "execution_count": 18,
   "metadata": {},
   "outputs": [
    {
     "name": "stdout",
     "output_type": "stream",
     "text": [
      "OK\n",
      "OK\n",
      "OK\n",
      "OK\n"
     ]
    }
   ],
   "source": [
    "for vacancy in results[:10]:\n",
    "    id_ = vacancy[0].split('/')[-1]\n",
    "    req = requests.get('https://api.hh.ru/vacancies/' + id_).json()\n",
    "    if req['specializations'][0]['profarea_id'] == '1':\n",
    "        vac_set = vacancy[:-1] + "
   ]
  },
  {
   "cell_type": "code",
   "execution_count": 19,
   "metadata": {},
   "outputs": [
    {
     "data": {
      "text/plain": [
       "('https://hh.ru/vacancy/29470150',\n",
       " 'Менеджер по продажам продуктов эквайринга',\n",
       " 'Саранск',\n",
       " '2019-01-15')"
      ]
     },
     "execution_count": 19,
     "metadata": {},
     "output_type": "execute_result"
    }
   ],
   "source": [
    "results[0][:-1]"
   ]
  },
  {
   "cell_type": "code",
   "execution_count": 6,
   "metadata": {},
   "outputs": [
    {
     "data": {
      "text/plain": [
       "'29470150'"
      ]
     },
     "execution_count": 6,
     "metadata": {},
     "output_type": "execute_result"
    }
   ],
   "source": [
    "results[0][0].split('/')[-1]"
   ]
  },
  {
   "cell_type": "code",
   "execution_count": 2,
   "metadata": {},
   "outputs": [],
   "source": [
    "url = 'https://api.hh.ru/vacancies/'\n",
    "id_ = '34609842'"
   ]
  },
  {
   "cell_type": "code",
   "execution_count": 3,
   "metadata": {},
   "outputs": [],
   "source": [
    "req = requests.get(url + id_)"
   ]
  },
  {
   "cell_type": "code",
   "execution_count": 4,
   "metadata": {},
   "outputs": [],
   "source": [
    "info = req.json()"
   ]
  },
  {
   "cell_type": "code",
   "execution_count": 5,
   "metadata": {},
   "outputs": [
    {
     "data": {
      "text/plain": [
       "{'id': '34609842',\n",
       " 'premium': True,\n",
       " 'billing_type': {'id': 'premium', 'name': 'Премиум'},\n",
       " 'relations': [],\n",
       " 'name': 'Ведущий разработчик 1С',\n",
       " 'insider_interview': None,\n",
       " 'response_letter_required': False,\n",
       " 'area': {'id': '2',\n",
       "  'name': 'Санкт-Петербург',\n",
       "  'url': 'https://api.hh.ru/areas/2'},\n",
       " 'salary': {'from': 120000, 'to': None, 'currency': 'RUR', 'gross': False},\n",
       " 'type': {'id': 'open', 'name': 'Открытая'},\n",
       " 'address': {'city': 'Санкт-Петербург',\n",
       "  'street': 'улица Академика Павлова',\n",
       "  'building': '14А',\n",
       "  'description': None,\n",
       "  'lat': 59.976324,\n",
       "  'lng': 30.309328,\n",
       "  'raw': 'Санкт-Петербург, улица Академика Павлова, 14А',\n",
       "  'metro': {'station_name': 'Чёрная речка',\n",
       "   'line_name': 'Московско-Петроградская',\n",
       "   'station_id': '15.214',\n",
       "   'line_id': '15',\n",
       "   'lat': 59.985455,\n",
       "   'lng': 30.300833},\n",
       "  'metro_stations': [{'station_name': 'Чёрная речка',\n",
       "    'line_name': 'Московско-Петроградская',\n",
       "    'station_id': '15.214',\n",
       "    'line_id': '15',\n",
       "    'lat': 59.985455,\n",
       "    'lng': 30.300833},\n",
       "   {'station_name': 'Петроградская',\n",
       "    'line_name': 'Московско-Петроградская',\n",
       "    'station_id': '15.215',\n",
       "    'line_id': '15',\n",
       "    'lat': 59.966389,\n",
       "    'lng': 30.311293}]},\n",
       " 'allow_messages': True,\n",
       " 'site': {'id': 'hh', 'name': 'hh.ru'},\n",
       " 'experience': {'id': 'between3And6', 'name': 'От 3 до 6 лет'},\n",
       " 'schedule': {'id': 'fullDay', 'name': 'Полный день'},\n",
       " 'employment': {'id': 'full', 'name': 'Полная занятость'},\n",
       " 'department': None,\n",
       " 'contacts': None,\n",
       " 'description': '<strong>Обязанности:</strong> <ul> <li>Разработка по техническому заданию;</li> <li>Проектирование решений;</li> <li>Глубокая доработка типовых конфигураций;</li> <li>Разработка конфигураций с нуля;</li> <li>Рефакторинг кода, оптимизация высоконагруженных систем;</li> </ul> <strong>Требования:</strong> <ul> <li>Желателен опыт участия в проектах по автоматизации производственных предприятий;</li> <li>Опыт доработки типовых конфигураций;</li> <li>Желателен опыт работы с нетиповыми или сильно переписанными конфигурациями;</li> <li>Отличное знание возможностей и особенностей платформы &quot;1С: Предприятие 8&quot;;</li> <li>Хорошее знание интеграционных механизмов;</li> </ul> <strong>Условия:</strong> <ul> <li>Перспективы карьерного роста и возможность совершенствовать свои навыки;</li> <li>Интересные комплексные проекты;</li> <li>Конкурентоспособное вознаграждение;</li> <li>Официальное оформление по трудовому договору;</li> </ul>',\n",
       " 'branded_description': None,\n",
       " 'vacancy_constructor_template': None,\n",
       " 'key_skills': [{'name': '1С: Предприятие 8'},\n",
       "  {'name': '1С программирование'},\n",
       "  {'name': '1С: Управление Торговлей'},\n",
       "  {'name': '1С: Документооборот'}],\n",
       " 'accept_handicapped': False,\n",
       " 'accept_kids': False,\n",
       " 'archived': False,\n",
       " 'response_url': None,\n",
       " 'specializations': [{'id': '1.221',\n",
       "   'name': 'Программирование, Разработка',\n",
       "   'profarea_id': '1',\n",
       "   'profarea_name': 'Информационные технологии, интернет, телеком'},\n",
       "  {'id': '1.82',\n",
       "   'name': 'Инженер',\n",
       "   'profarea_id': '1',\n",
       "   'profarea_name': 'Информационные технологии, интернет, телеком'}],\n",
       " 'code': None,\n",
       " 'hidden': False,\n",
       " 'quick_responses_allowed': False,\n",
       " 'driver_license_types': [],\n",
       " 'accept_incomplete_resumes': False,\n",
       " 'employer': {'id': '3988795',\n",
       "  'name': 'СмартР',\n",
       "  'url': 'https://api.hh.ru/employers/3988795',\n",
       "  'alternate_url': 'https://hh.ru/employer/3988795',\n",
       "  'logo_urls': {'original': 'https://hhcdn.ru/employer-logo-original/637212.png',\n",
       "   '90': 'https://hhcdn.ru/employer-logo/2990000.png',\n",
       "   '240': 'https://hhcdn.ru/employer-logo/2990001.png'},\n",
       "  'vacancies_url': 'https://api.hh.ru/vacancies?employer_id=3988795',\n",
       "  'trusted': True},\n",
       " 'published_at': '2019-11-18T10:07:34+0300',\n",
       " 'created_at': '2019-11-18T10:07:34+0300',\n",
       " 'negotiations_url': None,\n",
       " 'suitable_resumes_url': None,\n",
       " 'apply_alternate_url': 'https://hh.ru/applicant/vacancy_response?vacancyId=34609842',\n",
       " 'has_test': False,\n",
       " 'test': None,\n",
       " 'alternate_url': 'https://hh.ru/vacancy/34609842'}"
      ]
     },
     "execution_count": 5,
     "metadata": {},
     "output_type": "execute_result"
    }
   ],
   "source": [
    "info"
   ]
  },
  {
   "cell_type": "code",
   "execution_count": 53,
   "metadata": {},
   "outputs": [
    {
     "data": {
      "text/plain": [
       "'Ведущий разработчик 1С'"
      ]
     },
     "execution_count": 53,
     "metadata": {},
     "output_type": "execute_result"
    }
   ],
   "source": [
    "info['name']"
   ]
  },
  {
   "cell_type": "code",
   "execution_count": 54,
   "metadata": {},
   "outputs": [
    {
     "data": {
      "text/plain": [
       "{'from': 120000, 'to': None, 'currency': 'RUR', 'gross': False}"
      ]
     },
     "execution_count": 54,
     "metadata": {},
     "output_type": "execute_result"
    }
   ],
   "source": [
    "info['salary']"
   ]
  },
  {
   "cell_type": "code",
   "execution_count": 55,
   "metadata": {},
   "outputs": [
    {
     "data": {
      "text/plain": [
       "'Санкт-Петербург'"
      ]
     },
     "execution_count": 55,
     "metadata": {},
     "output_type": "execute_result"
    }
   ],
   "source": [
    "info['address']['city']"
   ]
  },
  {
   "cell_type": "code",
   "execution_count": 56,
   "metadata": {},
   "outputs": [
    {
     "data": {
      "text/plain": [
       "[{'id': '1.221',\n",
       "  'name': 'Программирование, Разработка',\n",
       "  'profarea_id': '1',\n",
       "  'profarea_name': 'Информационные технологии, интернет, телеком'},\n",
       " {'id': '1.82',\n",
       "  'name': 'Инженер',\n",
       "  'profarea_id': '1',\n",
       "  'profarea_name': 'Информационные технологии, интернет, телеком'}]"
      ]
     },
     "execution_count": 56,
     "metadata": {},
     "output_type": "execute_result"
    }
   ],
   "source": [
    "info['specializations']"
   ]
  },
  {
   "cell_type": "code",
   "execution_count": 57,
   "metadata": {},
   "outputs": [
    {
     "data": {
      "text/plain": [
       "{'id': '3988795',\n",
       " 'name': 'СмартР',\n",
       " 'url': 'https://api.hh.ru/employers/3988795',\n",
       " 'alternate_url': 'https://hh.ru/employer/3988795',\n",
       " 'logo_urls': {'original': 'https://hhcdn.ru/employer-logo-original/637212.png',\n",
       "  '90': 'https://hhcdn.ru/employer-logo/2990000.png',\n",
       "  '240': 'https://hhcdn.ru/employer-logo/2990001.png'},\n",
       " 'vacancies_url': 'https://api.hh.ru/vacancies?employer_id=3988795',\n",
       " 'trusted': True}"
      ]
     },
     "execution_count": 57,
     "metadata": {},
     "output_type": "execute_result"
    }
   ],
   "source": [
    "info['employer']"
   ]
  },
  {
   "cell_type": "code",
   "execution_count": 26,
   "metadata": {},
   "outputs": [
    {
     "data": {
      "text/plain": [
       "'<strong>Обязанности:</strong> <ul> <li>Разработка по техническому заданию;</li> <li>Проектирование решений;</li> <li>Глубокая доработка типовых конфигураций;</li> <li>Разработка конфигураций с нуля;</li> <li>Рефакторинг кода, оптимизация высоконагруженных систем;</li> </ul> <strong>Требования:</strong> <ul> <li>Желателен опыт участия в проектах по автоматизации производственных предприятий;</li> <li>Опыт доработки типовых конфигураций;</li> <li>Желателен опыт работы с нетиповыми или сильно переписанными конфигурациями;</li> <li>Отличное знание возможностей и особенностей платформы &quot;1С: Предприятие 8&quot;;</li> <li>Хорошее знание интеграционных механизмов;</li> </ul> <strong>Условия:</strong> <ul> <li>Перспективы карьерного роста и возможность совершенствовать свои навыки;</li> <li>Интересные комплексные проекты;</li> <li>Конкурентоспособное вознаграждение;</li> <li>Официальное оформление по трудовому договору;</li> </ul>'"
      ]
     },
     "execution_count": 26,
     "metadata": {},
     "output_type": "execute_result"
    }
   ],
   "source": [
    "test_desc = info['description']\n",
    "test_desc"
   ]
  },
  {
   "cell_type": "code",
   "execution_count": 34,
   "metadata": {},
   "outputs": [
    {
     "data": {
      "text/plain": [
       "0"
      ]
     },
     "execution_count": 34,
     "metadata": {},
     "output_type": "execute_result"
    }
   ],
   "source": [
    "test_desc.index('<strong>')"
   ]
  },
  {
   "cell_type": "code",
   "execution_count": null,
   "metadata": {},
   "outputs": [],
   "source": []
  }
 ],
 "metadata": {
  "kernelspec": {
   "display_name": "Python 3",
   "language": "python",
   "name": "python3"
  },
  "language_info": {
   "codemirror_mode": {
    "name": "ipython",
    "version": 3
   },
   "file_extension": ".py",
   "mimetype": "text/x-python",
   "name": "python",
   "nbconvert_exporter": "python",
   "pygments_lexer": "ipython3",
   "version": "3.7.0"
  }
 },
 "nbformat": 4,
 "nbformat_minor": 2
}
