{
 "cells": [
  {
   "cell_type": "code",
   "execution_count": 1,
   "metadata": {},
   "outputs": [],
   "source": [
    "import requests\n",
    "import sqlite3\n",
    "import json\n",
    "from bs4 import BeautifulSoup"
   ]
  },
  {
   "cell_type": "code",
   "execution_count": 2,
   "metadata": {},
   "outputs": [],
   "source": [
    "new_db = 'C:\\\\Users\\\\busya\\\\Desktop\\\\anaconda\\\\проекты\\\\курсовая\\\\updated_vacancies.db'\n",
    "\n",
    "conn = sqlite3.connect(new_db)\n",
    "cursor = conn.cursor()\n",
    "\n",
    "cursor.execute('SELECT * from vacancies')\n",
    "results = cursor.fetchall()\n",
    "\n",
    "conn.close()"
   ]
  },
  {
   "cell_type": "code",
   "execution_count": 18,
   "metadata": {},
   "outputs": [
    {
     "name": "stdout",
     "output_type": "stream",
     "text": [
      "OK\n",
      "OK\n",
      "OK\n",
      "OK\n"
     ]
    }
   ],
   "source": [
    "for vacancy in results[:10]:\n",
    "    id_ = vacancy[0].split('/')[-1]\n",
    "    req = requests.get('https://api.hh.ru/vacancies/' + id_).json()\n",
    "    if req['specializations'][0]['profarea_id'] == '1':\n",
    "        vac_set = vacancy[:-1] + "
   ]
  },
  {
   "cell_type": "code",
   "execution_count": 19,
   "metadata": {},
   "outputs": [
    {
     "data": {
      "text/plain": [
       "('https://hh.ru/vacancy/29470150',\n",
       " 'Менеджер по продажам продуктов эквайринга',\n",
       " 'Саранск',\n",
       " '2019-01-15')"
      ]
     },
     "execution_count": 19,
     "metadata": {},
     "output_type": "execute_result"
    }
   ],
   "source": [
    "results[0][:-1]"
   ]
  },
  {
   "cell_type": "code",
   "execution_count": 6,
   "metadata": {},
   "outputs": [
    {
     "data": {
      "text/plain": [
       "'29470150'"
      ]
     },
     "execution_count": 6,
     "metadata": {},
     "output_type": "execute_result"
    }
   ],
   "source": [
    "results[0][0].split('/')[-1]"
   ]
  },
  {
   "cell_type": "code",
   "execution_count": 20,
   "metadata": {},
   "outputs": [],
   "source": [
    "url = 'https://api.hh.ru/vacancies/'\n",
    "id_ = '34609842'"
   ]
  },
  {
   "cell_type": "code",
   "execution_count": 21,
   "metadata": {},
   "outputs": [],
   "source": [
    "req = requests.get(url + id_)"
   ]
  },
  {
   "cell_type": "code",
   "execution_count": 23,
   "metadata": {},
   "outputs": [],
   "source": [
    "info = req.json()"
   ]
  },
  {
   "cell_type": "code",
   "execution_count": 53,
   "metadata": {},
   "outputs": [
    {
     "data": {
      "text/plain": [
       "'Ведущий разработчик 1С'"
      ]
     },
     "execution_count": 53,
     "metadata": {},
     "output_type": "execute_result"
    }
   ],
   "source": [
    "info['name']"
   ]
  },
  {
   "cell_type": "code",
   "execution_count": 54,
   "metadata": {},
   "outputs": [
    {
     "data": {
      "text/plain": [
       "{'from': 120000, 'to': None, 'currency': 'RUR', 'gross': False}"
      ]
     },
     "execution_count": 54,
     "metadata": {},
     "output_type": "execute_result"
    }
   ],
   "source": [
    "info['salary']"
   ]
  },
  {
   "cell_type": "code",
   "execution_count": 55,
   "metadata": {},
   "outputs": [
    {
     "data": {
      "text/plain": [
       "'Санкт-Петербург'"
      ]
     },
     "execution_count": 55,
     "metadata": {},
     "output_type": "execute_result"
    }
   ],
   "source": [
    "info['address']['city']"
   ]
  },
  {
   "cell_type": "code",
   "execution_count": 56,
   "metadata": {},
   "outputs": [
    {
     "data": {
      "text/plain": [
       "[{'id': '1.221',\n",
       "  'name': 'Программирование, Разработка',\n",
       "  'profarea_id': '1',\n",
       "  'profarea_name': 'Информационные технологии, интернет, телеком'},\n",
       " {'id': '1.82',\n",
       "  'name': 'Инженер',\n",
       "  'profarea_id': '1',\n",
       "  'profarea_name': 'Информационные технологии, интернет, телеком'}]"
      ]
     },
     "execution_count": 56,
     "metadata": {},
     "output_type": "execute_result"
    }
   ],
   "source": [
    "info['specializations']"
   ]
  },
  {
   "cell_type": "code",
   "execution_count": 57,
   "metadata": {},
   "outputs": [
    {
     "data": {
      "text/plain": [
       "{'id': '3988795',\n",
       " 'name': 'СмартР',\n",
       " 'url': 'https://api.hh.ru/employers/3988795',\n",
       " 'alternate_url': 'https://hh.ru/employer/3988795',\n",
       " 'logo_urls': {'original': 'https://hhcdn.ru/employer-logo-original/637212.png',\n",
       "  '90': 'https://hhcdn.ru/employer-logo/2990000.png',\n",
       "  '240': 'https://hhcdn.ru/employer-logo/2990001.png'},\n",
       " 'vacancies_url': 'https://api.hh.ru/vacancies?employer_id=3988795',\n",
       " 'trusted': True}"
      ]
     },
     "execution_count": 57,
     "metadata": {},
     "output_type": "execute_result"
    }
   ],
   "source": [
    "info['employer']"
   ]
  },
  {
   "cell_type": "code",
   "execution_count": 26,
   "metadata": {},
   "outputs": [
    {
     "data": {
      "text/plain": [
       "'<strong>Обязанности:</strong> <ul> <li>Разработка по техническому заданию;</li> <li>Проектирование решений;</li> <li>Глубокая доработка типовых конфигураций;</li> <li>Разработка конфигураций с нуля;</li> <li>Рефакторинг кода, оптимизация высоконагруженных систем;</li> </ul> <strong>Требования:</strong> <ul> <li>Желателен опыт участия в проектах по автоматизации производственных предприятий;</li> <li>Опыт доработки типовых конфигураций;</li> <li>Желателен опыт работы с нетиповыми или сильно переписанными конфигурациями;</li> <li>Отличное знание возможностей и особенностей платформы &quot;1С: Предприятие 8&quot;;</li> <li>Хорошее знание интеграционных механизмов;</li> </ul> <strong>Условия:</strong> <ul> <li>Перспективы карьерного роста и возможность совершенствовать свои навыки;</li> <li>Интересные комплексные проекты;</li> <li>Конкурентоспособное вознаграждение;</li> <li>Официальное оформление по трудовому договору;</li> </ul>'"
      ]
     },
     "execution_count": 26,
     "metadata": {},
     "output_type": "execute_result"
    }
   ],
   "source": [
    "test_desc = info['description']\n",
    "test_desc"
   ]
  },
  {
   "cell_type": "code",
   "execution_count": 34,
   "metadata": {},
   "outputs": [
    {
     "data": {
      "text/plain": [
       "0"
      ]
     },
     "execution_count": 34,
     "metadata": {},
     "output_type": "execute_result"
    }
   ],
   "source": [
    "test_desc.index('<strong>')"
   ]
  },
  {
   "cell_type": "code",
   "execution_count": null,
   "metadata": {},
   "outputs": [],
   "source": []
  }
 ],
 "metadata": {
  "kernelspec": {
   "display_name": "Python 3",
   "language": "python",
   "name": "python3"
  },
  "language_info": {
   "codemirror_mode": {
    "name": "ipython",
    "version": 3
   },
   "file_extension": ".py",
   "mimetype": "text/x-python",
   "name": "python",
   "nbconvert_exporter": "python",
   "pygments_lexer": "ipython3",
   "version": "3.7.0"
  }
 },
 "nbformat": 4,
 "nbformat_minor": 2
}
